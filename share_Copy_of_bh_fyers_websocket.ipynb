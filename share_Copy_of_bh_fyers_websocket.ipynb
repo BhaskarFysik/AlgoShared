{
  "nbformat": 4,
  "nbformat_minor": 0,
  "metadata": {
    "colab": {
      "provenance": [],
      "toc_visible": true,
      "authorship_tag": "ABX9TyM7xdkdcxALsbG4cSBjI8NL",
      "include_colab_link": true
    },
    "kernelspec": {
      "name": "python3",
      "display_name": "Python 3"
    },
    "language_info": {
      "name": "python"
    }
  },
  "cells": [
    {
      "cell_type": "markdown",
      "metadata": {
        "id": "view-in-github",
        "colab_type": "text"
      },
      "source": [
        "<a href=\"https://colab.research.google.com/github/BhaskarFysik/AlgoShared/blob/main/share_Copy_of_bh_fyers_websocket.ipynb\" target=\"_parent\"><img src=\"https://colab.research.google.com/assets/colab-badge.svg\" alt=\"Open In Colab\"/></a>"
      ]
    },
    {
      "cell_type": "code",
      "source": [
        "pip install fyers-apiv2"
      ],
      "metadata": {
        "colab": {
          "base_uri": "https://localhost:8080/",
          "height": 782
        },
        "id": "ejigxXc6owhN",
        "outputId": "bdd6f698-4b72-4850-b522-b180897fab58"
      },
      "execution_count": null,
      "outputs": [
        {
          "output_type": "stream",
          "name": "stdout",
          "text": [
            "Looking in indexes: https://pypi.org/simple, https://us-python.pkg.dev/colab-wheels/public/simple/\n",
            "Collecting fyers-apiv2\n",
            "  Downloading fyers_apiv2-2.0.5-py3-none-any.whl (15 kB)\n",
            "Collecting websocket-client==1.2.1\n",
            "  Downloading websocket_client-1.2.1-py2.py3-none-any.whl (52 kB)\n",
            "\u001b[K     |████████████████████████████████| 52 kB 1.6 MB/s \n",
            "\u001b[?25hCollecting websockets==8.1\n",
            "  Downloading websockets-8.1-cp37-cp37m-manylinux2010_x86_64.whl (79 kB)\n",
            "\u001b[K     |████████████████████████████████| 79 kB 8.5 MB/s \n",
            "\u001b[?25hCollecting asyncio==3.4.3\n",
            "  Downloading asyncio-3.4.3-py3-none-any.whl (101 kB)\n",
            "\u001b[K     |████████████████████████████████| 101 kB 13.1 MB/s \n",
            "\u001b[?25hCollecting requests==2.25.1\n",
            "  Downloading requests-2.25.1-py2.py3-none-any.whl (61 kB)\n",
            "\u001b[K     |████████████████████████████████| 61 kB 9.8 MB/s \n",
            "\u001b[?25hCollecting tornado==6.1\n",
            "  Downloading tornado-6.1-cp37-cp37m-manylinux2010_x86_64.whl (428 kB)\n",
            "\u001b[K     |████████████████████████████████| 428 kB 58.2 MB/s \n",
            "\u001b[?25hRequirement already satisfied: chardet<5,>=3.0.2 in /usr/local/lib/python3.7/dist-packages (from requests==2.25.1->fyers-apiv2) (3.0.4)\n",
            "Requirement already satisfied: certifi>=2017.4.17 in /usr/local/lib/python3.7/dist-packages (from requests==2.25.1->fyers-apiv2) (2022.9.24)\n",
            "Requirement already satisfied: urllib3<1.27,>=1.21.1 in /usr/local/lib/python3.7/dist-packages (from requests==2.25.1->fyers-apiv2) (1.24.3)\n",
            "Requirement already satisfied: idna<3,>=2.5 in /usr/local/lib/python3.7/dist-packages (from requests==2.25.1->fyers-apiv2) (2.10)\n",
            "Installing collected packages: websockets, websocket-client, tornado, requests, asyncio, fyers-apiv2\n",
            "  Attempting uninstall: tornado\n",
            "    Found existing installation: tornado 5.1.1\n",
            "    Uninstalling tornado-5.1.1:\n",
            "      Successfully uninstalled tornado-5.1.1\n",
            "  Attempting uninstall: requests\n",
            "    Found existing installation: requests 2.23.0\n",
            "    Uninstalling requests-2.23.0:\n",
            "      Successfully uninstalled requests-2.23.0\n",
            "\u001b[31mERROR: pip's dependency resolver does not currently take into account all the packages that are installed. This behaviour is the source of the following dependency conflicts.\n",
            "google-colab 1.0.0 requires tornado~=5.1.0, but you have tornado 6.1 which is incompatible.\u001b[0m\n",
            "Successfully installed asyncio-3.4.3 fyers-apiv2-2.0.5 requests-2.25.1 tornado-6.1 websocket-client-1.2.1 websockets-8.1\n"
          ]
        },
        {
          "output_type": "display_data",
          "data": {
            "application/vnd.colab-display-data+json": {
              "pip_warning": {
                "packages": [
                  "asyncio",
                  "tornado"
                ]
              }
            }
          },
          "metadata": {}
        }
      ]
    },
    {
      "cell_type": "code",
      "source": [
        "pip install numpy"
      ],
      "metadata": {
        "colab": {
          "base_uri": "https://localhost:8080/"
        },
        "id": "49QnHpZjo1c-",
        "outputId": "aaed9efb-7960-49b7-ac68-3f1026bb4a34"
      },
      "execution_count": null,
      "outputs": [
        {
          "output_type": "stream",
          "name": "stdout",
          "text": [
            "Looking in indexes: https://pypi.org/simple, https://us-python.pkg.dev/colab-wheels/public/simple/\n",
            "Requirement already satisfied: numpy in /usr/local/lib/python3.7/dist-packages (1.21.6)\n"
          ]
        }
      ]
    },
    {
      "cell_type": "code",
      "source": [
        "pip install pandas"
      ],
      "metadata": {
        "colab": {
          "base_uri": "https://localhost:8080/"
        },
        "id": "x8r6dE4Eo-DV",
        "outputId": "c61b2be4-a659-464d-d208-c8dea20727fc"
      },
      "execution_count": null,
      "outputs": [
        {
          "output_type": "stream",
          "name": "stdout",
          "text": [
            "Looking in indexes: https://pypi.org/simple, https://us-python.pkg.dev/colab-wheels/public/simple/\n",
            "Requirement already satisfied: pandas in /usr/local/lib/python3.7/dist-packages (1.3.5)\n",
            "Requirement already satisfied: numpy>=1.17.3 in /usr/local/lib/python3.7/dist-packages (from pandas) (1.21.6)\n",
            "Requirement already satisfied: pytz>=2017.3 in /usr/local/lib/python3.7/dist-packages (from pandas) (2022.4)\n",
            "Requirement already satisfied: python-dateutil>=2.7.3 in /usr/local/lib/python3.7/dist-packages (from pandas) (2.8.2)\n",
            "Requirement already satisfied: six>=1.5 in /usr/local/lib/python3.7/dist-packages (from python-dateutil>=2.7.3->pandas) (1.15.0)\n"
          ]
        }
      ]
    },
    {
      "cell_type": "code",
      "source": [
        "pip install matplotlib"
      ],
      "metadata": {
        "colab": {
          "base_uri": "https://localhost:8080/"
        },
        "id": "TFpMbTqNpBHz",
        "outputId": "6f142d37-c757-4931-ec8b-6aeb2769658c"
      },
      "execution_count": null,
      "outputs": [
        {
          "output_type": "stream",
          "name": "stdout",
          "text": [
            "Looking in indexes: https://pypi.org/simple, https://us-python.pkg.dev/colab-wheels/public/simple/\n",
            "Requirement already satisfied: matplotlib in /usr/local/lib/python3.7/dist-packages (3.2.2)\n",
            "Requirement already satisfied: python-dateutil>=2.1 in /usr/local/lib/python3.7/dist-packages (from matplotlib) (2.8.2)\n",
            "Requirement already satisfied: pyparsing!=2.0.4,!=2.1.2,!=2.1.6,>=2.0.1 in /usr/local/lib/python3.7/dist-packages (from matplotlib) (3.0.9)\n",
            "Requirement already satisfied: cycler>=0.10 in /usr/local/lib/python3.7/dist-packages (from matplotlib) (0.11.0)\n",
            "Requirement already satisfied: kiwisolver>=1.0.1 in /usr/local/lib/python3.7/dist-packages (from matplotlib) (1.4.4)\n",
            "Requirement already satisfied: numpy>=1.11 in /usr/local/lib/python3.7/dist-packages (from matplotlib) (1.21.6)\n",
            "Requirement already satisfied: typing-extensions in /usr/local/lib/python3.7/dist-packages (from kiwisolver>=1.0.1->matplotlib) (4.1.1)\n",
            "Requirement already satisfied: six>=1.5 in /usr/local/lib/python3.7/dist-packages (from python-dateutil>=2.1->matplotlib) (1.15.0)\n"
          ]
        }
      ]
    },
    {
      "cell_type": "code",
      "source": [
        "pip install pandas_ta"
      ],
      "metadata": {
        "colab": {
          "base_uri": "https://localhost:8080/"
        },
        "id": "PtcY0nMApGaB",
        "outputId": "dac96168-79b8-428a-fb67-77f7926a8848"
      },
      "execution_count": null,
      "outputs": [
        {
          "output_type": "stream",
          "name": "stdout",
          "text": [
            "Looking in indexes: https://pypi.org/simple, https://us-python.pkg.dev/colab-wheels/public/simple/\n",
            "Collecting pandas_ta\n",
            "  Downloading pandas_ta-0.3.14b.tar.gz (115 kB)\n",
            "\u001b[?25l\r\u001b[K     |██▉                             | 10 kB 27.3 MB/s eta 0:00:01\r\u001b[K     |█████▊                          | 20 kB 19.1 MB/s eta 0:00:01\r\u001b[K     |████████▌                       | 30 kB 24.9 MB/s eta 0:00:01\r\u001b[K     |███████████▍                    | 40 kB 17.9 MB/s eta 0:00:01\r\u001b[K     |██████████████▎                 | 51 kB 16.2 MB/s eta 0:00:01\r\u001b[K     |█████████████████               | 61 kB 18.4 MB/s eta 0:00:01\r\u001b[K     |████████████████████            | 71 kB 19.7 MB/s eta 0:00:01\r\u001b[K     |██████████████████████▊         | 81 kB 21.5 MB/s eta 0:00:01\r\u001b[K     |█████████████████████████▋      | 92 kB 22.4 MB/s eta 0:00:01\r\u001b[K     |████████████████████████████▌   | 102 kB 23.0 MB/s eta 0:00:01\r\u001b[K     |███████████████████████████████▎| 112 kB 23.0 MB/s eta 0:00:01\r\u001b[K     |████████████████████████████████| 115 kB 23.0 MB/s \n",
            "\u001b[?25hRequirement already satisfied: pandas in /usr/local/lib/python3.7/dist-packages (from pandas_ta) (1.3.5)\n",
            "Requirement already satisfied: pytz>=2017.3 in /usr/local/lib/python3.7/dist-packages (from pandas->pandas_ta) (2022.4)\n",
            "Requirement already satisfied: python-dateutil>=2.7.3 in /usr/local/lib/python3.7/dist-packages (from pandas->pandas_ta) (2.8.2)\n",
            "Requirement already satisfied: numpy>=1.17.3 in /usr/local/lib/python3.7/dist-packages (from pandas->pandas_ta) (1.21.6)\n",
            "Requirement already satisfied: six>=1.5 in /usr/local/lib/python3.7/dist-packages (from python-dateutil>=2.7.3->pandas->pandas_ta) (1.15.0)\n",
            "Building wheels for collected packages: pandas-ta\n",
            "  Building wheel for pandas-ta (setup.py) ... \u001b[?25l\u001b[?25hdone\n",
            "  Created wheel for pandas-ta: filename=pandas_ta-0.3.14b0-py3-none-any.whl size=218923 sha256=435e42e46b0b69df27f6b84da89016478209da5955ddf7416aa15d1529764453\n",
            "  Stored in directory: /root/.cache/pip/wheels/0b/81/f0/cca85757840e4616a2c6b9fe12569d97d324c27cac60724c58\n",
            "Successfully built pandas-ta\n",
            "Installing collected packages: pandas-ta\n",
            "Successfully installed pandas-ta-0.3.14b0\n"
          ]
        }
      ]
    },
    {
      "cell_type": "code",
      "execution_count": null,
      "metadata": {
        "colab": {
          "base_uri": "https://localhost:8080/"
        },
        "id": "0RLgpN4GoXGe",
        "outputId": "9c522731-ecdc-420c-b1e9-fdd86b47bb9e"
      },
      "outputs": [
        {
          "output_type": "stream",
          "name": "stdout",
          "text": [
            "{'s': 'ok', 'code': 200, 'message': '', 'fund_limit': [{'id': 9, 'title': 'Limit at start of the day', 'equityAmount': 132.9, 'commodityAmount': 0}, {'id': 8, 'title': 'Adhoc Limit', 'equityAmount': 0.0, 'commodityAmount': 0}, {'id': 7, 'title': 'Receivables', 'equityAmount': 0.0, 'commodityAmount': 0}, {'id': 6, 'title': 'Fund Transfer', 'equityAmount': 0.0, 'commodityAmount': 0}, {'id': 5, 'title': 'Collaterals', 'equityAmount': 0.0, 'commodityAmount': 0}, {'id': 4, 'title': 'Realized Profit and Loss', 'equityAmount': 0.0, 'commodityAmount': 0}, {'id': 2, 'title': 'Utilized Amount', 'equityAmount': 0.0, 'commodityAmount': 0}, {'id': 3, 'title': 'Clear Balance', 'equityAmount': 132.9, 'commodityAmount': 0}, {'id': 1, 'title': 'Total Balance', 'equityAmount': 132.9, 'commodityAmount': 0}, {'id': 10, 'title': 'Available Balance', 'equityAmount': 132.9, 'commodityAmount': 0}]}\n"
          ]
        }
      ],
      "source": [
        "app_id=''\n",
        "app_secret=''\n",
        "redirect_uri='https://trade.fyers.in/api-login/redirect-uri/index.html'\n",
        "\n",
        "#libraries\n",
        "from fyers_api import fyersModel,accessToken\n",
        "import os\n",
        "import numpy as np\n",
        "import pandas as pd\n",
        "import pandas_ta as ta\n",
        "import matplotlib.pyplot as plt\n",
        "\n",
        "\n",
        "#login\n",
        "def get_access_token():\n",
        "    if not os.path.exists(\"access_token.txt\"):\n",
        "        session=accessToken.SessionModel(client_id=app_id,\n",
        "        secret_key=app_secret,redirect_uri=redirect_uri,\n",
        "        response_type='code', grant_type='authorization_code')\n",
        "        response = session.generate_authcode()\n",
        "        print(\"login url=\",response)\n",
        "        auth_code =input(\"Enter auth_code\")\n",
        "\n",
        "        session.set_token(auth_code)\n",
        "        access_token = session.generate_token()[\"access_token\"]\n",
        "        with open(\"access_token.txt\",\"w\") as f:\n",
        "            f.write(access_token)\n",
        "    else:\n",
        "        with open(\"access_token.txt\",\"r\") as f:\n",
        "            access_token=f.read()\n",
        "    return access_token\n",
        "access_token=get_access_token()\n",
        "\n",
        "fyers = fyersModel.FyersModel(client_id=app_id, token=get_access_token(),log_path=\"\")\n",
        "#login complete\n",
        "\n",
        "\n",
        "#print(fyers.get_profile())\n",
        "print(fyers.funds())"
      ]
    },
    {
      "cell_type": "code",
      "source": [
        "#live streaming\n",
        "from fyers_api.Websocket import ws\n",
        "ws_access_token = f\"{app_id}:{access_token}\"\n",
        "data_type = \"symbolData\"\n",
        "\n",
        "run_background= False\n",
        "\n",
        "symbol= [\"NSE:NIFTY50-INDEX\"]\n",
        "\n",
        "\n",
        "def custom_message(msg):\n",
        "    print(f\"Custom:{msg}\")\n",
        "    #print(type(msg))\n",
        "    #for symbol_data in msg:\n",
        "       # print(type(symbol_data))\n",
        "       # print(symbol_data['symbol'],symbol_data['ltp'])\n",
        "\n",
        "\n",
        "fyersSocket = ws.FyersSocket(access_token=ws_access_token,run_background=False,log_path=\"\")\n",
        "fyersSocket.websocket_data = custom_message\n",
        "fyersSocket.subscribe(symbol=symbol, data_type=data_type)\n",
        "\n",
        "fyersSocket.keep_running()"
      ],
      "metadata": {
        "colab": {
          "base_uri": "https://localhost:8080/",
          "height": 1000
        },
        "id": "3Th0bPfkouUE",
        "outputId": "f00b1e22-072c-4dc0-f6c4-97e1f4ef8e29"
      },
      "execution_count": null,
      "outputs": [
        {
          "output_type": "stream",
          "name": "stdout",
          "text": [
            "Custom:[{'symbol': 'NSE:NIFTY50-INDEX', 'timestamp': 1665988538, 'fyCode': 7207, 'fyFlag': 2, 'pktLen': 48, 'ltp': 17235.1, 'open_price': 17144.8, 'high_price': 17284.3, 'low_price': 17098.55, 'close_price': 17185.7, 'min_open_price': 17234.8, 'min_high_price': 17235.95, 'min_low_price': 17233.9, 'min_close_price': 17235.1, 'min_volume': 0}]\n",
            "Custom:[{'symbol': 'NSE:NIFTY50-INDEX', 'timestamp': 1665988539, 'fyCode': 7207, 'fyFlag': 2, 'pktLen': 48, 'ltp': 17234.9, 'open_price': 17144.8, 'high_price': 17284.3, 'low_price': 17098.55, 'close_price': 17185.7, 'min_open_price': 17234.8, 'min_high_price': 17235.95, 'min_low_price': 17233.9, 'min_close_price': 17234.9, 'min_volume': 0}]\n",
            "Custom:[{'symbol': 'NSE:NIFTY50-INDEX', 'timestamp': 1665988540, 'fyCode': 7207, 'fyFlag': 2, 'pktLen': 48, 'ltp': 17234.75, 'open_price': 17144.8, 'high_price': 17284.3, 'low_price': 17098.55, 'close_price': 17185.7, 'min_open_price': 17234.8, 'min_high_price': 17235.95, 'min_low_price': 17233.9, 'min_close_price': 17234.75, 'min_volume': 0}]\n",
            "Custom:[{'symbol': 'NSE:NIFTY50-INDEX', 'timestamp': 1665988541, 'fyCode': 7207, 'fyFlag': 2, 'pktLen': 48, 'ltp': 17235.25, 'open_price': 17144.8, 'high_price': 17284.3, 'low_price': 17098.55, 'close_price': 17185.7, 'min_open_price': 17234.8, 'min_high_price': 17235.95, 'min_low_price': 17233.9, 'min_close_price': 17235.25, 'min_volume': 0}]\n",
            "Custom:[{'symbol': 'NSE:NIFTY50-INDEX', 'timestamp': 1665988542, 'fyCode': 7207, 'fyFlag': 2, 'pktLen': 48, 'ltp': 17235.3, 'open_price': 17144.8, 'high_price': 17284.3, 'low_price': 17098.55, 'close_price': 17185.7, 'min_open_price': 17234.8, 'min_high_price': 17235.95, 'min_low_price': 17233.9, 'min_close_price': 17235.3, 'min_volume': 0}]\n",
            "Custom:[{'symbol': 'NSE:NIFTY50-INDEX', 'timestamp': 1665988543, 'fyCode': 7207, 'fyFlag': 2, 'pktLen': 48, 'ltp': 17234.85, 'open_price': 17144.8, 'high_price': 17284.3, 'low_price': 17098.55, 'close_price': 17185.7, 'min_open_price': 17234.8, 'min_high_price': 17235.95, 'min_low_price': 17233.9, 'min_close_price': 17234.85, 'min_volume': 0}]\n",
            "Custom:[{'symbol': 'NSE:NIFTY50-INDEX', 'timestamp': 1665988544, 'fyCode': 7207, 'fyFlag': 2, 'pktLen': 48, 'ltp': 17235.2, 'open_price': 17144.8, 'high_price': 17284.3, 'low_price': 17098.55, 'close_price': 17185.7, 'min_open_price': 17234.8, 'min_high_price': 17235.95, 'min_low_price': 17233.9, 'min_close_price': 17235.2, 'min_volume': 0}]\n",
            "Custom:[{'symbol': 'NSE:NIFTY50-INDEX', 'timestamp': 1665988545, 'fyCode': 7207, 'fyFlag': 2, 'pktLen': 48, 'ltp': 17235.3, 'open_price': 17144.8, 'high_price': 17284.3, 'low_price': 17098.55, 'close_price': 17185.7, 'min_open_price': 17234.8, 'min_high_price': 17235.95, 'min_low_price': 17233.9, 'min_close_price': 17235.3, 'min_volume': 0}]\n",
            "Custom:[{'symbol': 'NSE:NIFTY50-INDEX', 'timestamp': 1665988546, 'fyCode': 7207, 'fyFlag': 2, 'pktLen': 48, 'ltp': 17235.7, 'open_price': 17144.8, 'high_price': 17284.3, 'low_price': 17098.55, 'close_price': 17185.7, 'min_open_price': 17234.8, 'min_high_price': 17235.95, 'min_low_price': 17233.9, 'min_close_price': 17235.7, 'min_volume': 0}]\n",
            "Custom:[{'symbol': 'NSE:NIFTY50-INDEX', 'timestamp': 1665988547, 'fyCode': 7207, 'fyFlag': 2, 'pktLen': 48, 'ltp': 17235.6, 'open_price': 17144.8, 'high_price': 17284.3, 'low_price': 17098.55, 'close_price': 17185.7, 'min_open_price': 17234.8, 'min_high_price': 17235.95, 'min_low_price': 17233.9, 'min_close_price': 17235.6, 'min_volume': 0}]\n",
            "Custom:[{'symbol': 'NSE:NIFTY50-INDEX', 'timestamp': 1665988548, 'fyCode': 7207, 'fyFlag': 2, 'pktLen': 48, 'ltp': 17235.7, 'open_price': 17144.8, 'high_price': 17284.3, 'low_price': 17098.55, 'close_price': 17185.7, 'min_open_price': 17234.8, 'min_high_price': 17235.95, 'min_low_price': 17233.9, 'min_close_price': 17235.7, 'min_volume': 0}]\n",
            "Custom:[{'symbol': 'NSE:NIFTY50-INDEX', 'timestamp': 1665988549, 'fyCode': 7207, 'fyFlag': 2, 'pktLen': 48, 'ltp': 17236.8, 'open_price': 17144.8, 'high_price': 17284.3, 'low_price': 17098.55, 'close_price': 17185.7, 'min_open_price': 17234.8, 'min_high_price': 17236.8, 'min_low_price': 17233.9, 'min_close_price': 17236.8, 'min_volume': 0}]\n",
            "Custom:[{'symbol': 'NSE:NIFTY50-INDEX', 'timestamp': 1665988550, 'fyCode': 7207, 'fyFlag': 2, 'pktLen': 48, 'ltp': 17238.4, 'open_price': 17144.8, 'high_price': 17284.3, 'low_price': 17098.55, 'close_price': 17185.7, 'min_open_price': 17234.8, 'min_high_price': 17238.4, 'min_low_price': 17233.9, 'min_close_price': 17238.4, 'min_volume': 0}]\n",
            "Custom:[{'symbol': 'NSE:NIFTY50-INDEX', 'timestamp': 1665988551, 'fyCode': 7207, 'fyFlag': 2, 'pktLen': 48, 'ltp': 17238.8, 'open_price': 17144.8, 'high_price': 17284.3, 'low_price': 17098.55, 'close_price': 17185.7, 'min_open_price': 17234.8, 'min_high_price': 17238.8, 'min_low_price': 17233.9, 'min_close_price': 17238.8, 'min_volume': 0}]\n",
            "Custom:[{'symbol': 'NSE:NIFTY50-INDEX', 'timestamp': 1665988552, 'fyCode': 7207, 'fyFlag': 2, 'pktLen': 48, 'ltp': 17238.7, 'open_price': 17144.8, 'high_price': 17284.3, 'low_price': 17098.55, 'close_price': 17185.7, 'min_open_price': 17234.8, 'min_high_price': 17238.8, 'min_low_price': 17233.9, 'min_close_price': 17238.7, 'min_volume': 0}]\n",
            "Custom:[{'symbol': 'NSE:NIFTY50-INDEX', 'timestamp': 1665988553, 'fyCode': 7207, 'fyFlag': 2, 'pktLen': 48, 'ltp': 17238.8, 'open_price': 17144.8, 'high_price': 17284.3, 'low_price': 17098.55, 'close_price': 17185.7, 'min_open_price': 17234.8, 'min_high_price': 17238.8, 'min_low_price': 17233.9, 'min_close_price': 17238.8, 'min_volume': 0}]\n",
            "Custom:[{'symbol': 'NSE:NIFTY50-INDEX', 'timestamp': 1665988554, 'fyCode': 7207, 'fyFlag': 2, 'pktLen': 48, 'ltp': 17238.65, 'open_price': 17144.8, 'high_price': 17284.3, 'low_price': 17098.55, 'close_price': 17185.7, 'min_open_price': 17234.8, 'min_high_price': 17238.8, 'min_low_price': 17233.9, 'min_close_price': 17238.65, 'min_volume': 0}]\n",
            "Custom:[{'symbol': 'NSE:NIFTY50-INDEX', 'timestamp': 1665988555, 'fyCode': 7207, 'fyFlag': 2, 'pktLen': 48, 'ltp': 17237.65, 'open_price': 17144.8, 'high_price': 17284.3, 'low_price': 17098.55, 'close_price': 17185.7, 'min_open_price': 17234.8, 'min_high_price': 17238.8, 'min_low_price': 17233.9, 'min_close_price': 17237.65, 'min_volume': 0}]\n",
            "Custom:[{'symbol': 'NSE:NIFTY50-INDEX', 'timestamp': 1665988556, 'fyCode': 7207, 'fyFlag': 2, 'pktLen': 48, 'ltp': 17237.9, 'open_price': 17144.8, 'high_price': 17284.3, 'low_price': 17098.55, 'close_price': 17185.7, 'min_open_price': 17234.8, 'min_high_price': 17238.8, 'min_low_price': 17233.9, 'min_close_price': 17237.9, 'min_volume': 0}]\n",
            "Custom:[{'symbol': 'NSE:NIFTY50-INDEX', 'timestamp': 1665988557, 'fyCode': 7207, 'fyFlag': 2, 'pktLen': 48, 'ltp': 17238.7, 'open_price': 17144.8, 'high_price': 17284.3, 'low_price': 17098.55, 'close_price': 17185.7, 'min_open_price': 17234.8, 'min_high_price': 17238.8, 'min_low_price': 17233.9, 'min_close_price': 17238.7, 'min_volume': 0}]\n",
            "Custom:[{'symbol': 'NSE:NIFTY50-INDEX', 'timestamp': 1665988558, 'fyCode': 7207, 'fyFlag': 2, 'pktLen': 48, 'ltp': 17239.7, 'open_price': 17144.8, 'high_price': 17284.3, 'low_price': 17098.55, 'close_price': 17185.7, 'min_open_price': 17234.8, 'min_high_price': 17239.7, 'min_low_price': 17233.9, 'min_close_price': 17239.7, 'min_volume': 0}]\n",
            "Custom:[{'symbol': 'NSE:NIFTY50-INDEX', 'timestamp': 1665988559, 'fyCode': 7207, 'fyFlag': 2, 'pktLen': 48, 'ltp': 17240.0, 'open_price': 17144.8, 'high_price': 17284.3, 'low_price': 17098.55, 'close_price': 17185.7, 'min_open_price': 17234.8, 'min_high_price': 17240.0, 'min_low_price': 17233.9, 'min_close_price': 17240.0, 'min_volume': 0}]\n",
            "Custom:[{'symbol': 'NSE:NIFTY50-INDEX', 'timestamp': 1665988560, 'fyCode': 7207, 'fyFlag': 2, 'pktLen': 48, 'ltp': 17238.9, 'open_price': 17144.8, 'high_price': 17284.3, 'low_price': 17098.55, 'close_price': 17185.7, 'min_open_price': 17238.9, 'min_high_price': 17238.9, 'min_low_price': 17238.9, 'min_close_price': 17238.9, 'min_volume': 0}]\n",
            "Custom:[{'symbol': 'NSE:NIFTY50-INDEX', 'timestamp': 1665988561, 'fyCode': 7207, 'fyFlag': 2, 'pktLen': 48, 'ltp': 17239.25, 'open_price': 17144.8, 'high_price': 17284.3, 'low_price': 17098.55, 'close_price': 17185.7, 'min_open_price': 17238.9, 'min_high_price': 17239.25, 'min_low_price': 17238.9, 'min_close_price': 17239.25, 'min_volume': 0}]\n",
            "Custom:[{'symbol': 'NSE:NIFTY50-INDEX', 'timestamp': 1665988562, 'fyCode': 7207, 'fyFlag': 2, 'pktLen': 48, 'ltp': 17239.5, 'open_price': 17144.8, 'high_price': 17284.3, 'low_price': 17098.55, 'close_price': 17185.7, 'min_open_price': 17238.9, 'min_high_price': 17239.5, 'min_low_price': 17238.9, 'min_close_price': 17239.5, 'min_volume': 0}]\n",
            "Custom:[{'symbol': 'NSE:NIFTY50-INDEX', 'timestamp': 1665988563, 'fyCode': 7207, 'fyFlag': 2, 'pktLen': 48, 'ltp': 17239.35, 'open_price': 17144.8, 'high_price': 17284.3, 'low_price': 17098.55, 'close_price': 17185.7, 'min_open_price': 17238.9, 'min_high_price': 17239.5, 'min_low_price': 17238.9, 'min_close_price': 17239.35, 'min_volume': 0}]\n",
            "Custom:[{'symbol': 'NSE:NIFTY50-INDEX', 'timestamp': 1665988564, 'fyCode': 7207, 'fyFlag': 2, 'pktLen': 48, 'ltp': 17239.1, 'open_price': 17144.8, 'high_price': 17284.3, 'low_price': 17098.55, 'close_price': 17185.7, 'min_open_price': 17238.9, 'min_high_price': 17239.5, 'min_low_price': 17238.9, 'min_close_price': 17239.1, 'min_volume': 0}]\n",
            "Custom:[{'symbol': 'NSE:NIFTY50-INDEX', 'timestamp': 1665988565, 'fyCode': 7207, 'fyFlag': 2, 'pktLen': 48, 'ltp': 17238.9, 'open_price': 17144.8, 'high_price': 17284.3, 'low_price': 17098.55, 'close_price': 17185.7, 'min_open_price': 17238.9, 'min_high_price': 17239.5, 'min_low_price': 17238.9, 'min_close_price': 17238.9, 'min_volume': 0}]\n",
            "Custom:[{'symbol': 'NSE:NIFTY50-INDEX', 'timestamp': 1665988566, 'fyCode': 7207, 'fyFlag': 2, 'pktLen': 48, 'ltp': 17238.8, 'open_price': 17144.8, 'high_price': 17284.3, 'low_price': 17098.55, 'close_price': 17185.7, 'min_open_price': 17238.9, 'min_high_price': 17239.5, 'min_low_price': 17238.8, 'min_close_price': 17238.8, 'min_volume': 0}]\n",
            "Custom:[{'symbol': 'NSE:NIFTY50-INDEX', 'timestamp': 1665988567, 'fyCode': 7207, 'fyFlag': 2, 'pktLen': 48, 'ltp': 17238.65, 'open_price': 17144.8, 'high_price': 17284.3, 'low_price': 17098.55, 'close_price': 17185.7, 'min_open_price': 17238.9, 'min_high_price': 17239.5, 'min_low_price': 17238.65, 'min_close_price': 17238.65, 'min_volume': 0}]\n",
            "Custom:[{'symbol': 'NSE:NIFTY50-INDEX', 'timestamp': 1665988568, 'fyCode': 7207, 'fyFlag': 2, 'pktLen': 48, 'ltp': 17238.15, 'open_price': 17144.8, 'high_price': 17284.3, 'low_price': 17098.55, 'close_price': 17185.7, 'min_open_price': 17238.9, 'min_high_price': 17239.5, 'min_low_price': 17238.15, 'min_close_price': 17238.15, 'min_volume': 0}]\n",
            "Custom:[{'symbol': 'NSE:NIFTY50-INDEX', 'timestamp': 1665988569, 'fyCode': 7207, 'fyFlag': 2, 'pktLen': 48, 'ltp': 17238.1, 'open_price': 17144.8, 'high_price': 17284.3, 'low_price': 17098.55, 'close_price': 17185.7, 'min_open_price': 17238.9, 'min_high_price': 17239.5, 'min_low_price': 17238.1, 'min_close_price': 17238.1, 'min_volume': 0}]\n",
            "Custom:[{'symbol': 'NSE:NIFTY50-INDEX', 'timestamp': 1665988572, 'fyCode': 7207, 'fyFlag': 2, 'pktLen': 48, 'ltp': 17237.45, 'open_price': 17144.8, 'high_price': 17284.3, 'low_price': 17098.55, 'close_price': 17185.7, 'min_open_price': 17238.9, 'min_high_price': 17239.5, 'min_low_price': 17237.45, 'min_close_price': 17237.45, 'min_volume': 0}]\n",
            "Custom:[{'symbol': 'NSE:NIFTY50-INDEX', 'timestamp': 1665988573, 'fyCode': 7207, 'fyFlag': 2, 'pktLen': 48, 'ltp': 17237.65, 'open_price': 17144.8, 'high_price': 17284.3, 'low_price': 17098.55, 'close_price': 17185.7, 'min_open_price': 17238.9, 'min_high_price': 17239.5, 'min_low_price': 17237.45, 'min_close_price': 17237.65, 'min_volume': 0}]\n",
            "Custom:[{'symbol': 'NSE:NIFTY50-INDEX', 'timestamp': 1665988574, 'fyCode': 7207, 'fyFlag': 2, 'pktLen': 48, 'ltp': 17237.05, 'open_price': 17144.8, 'high_price': 17284.3, 'low_price': 17098.55, 'close_price': 17185.7, 'min_open_price': 17238.9, 'min_high_price': 17239.5, 'min_low_price': 17237.05, 'min_close_price': 17237.05, 'min_volume': 0}]\n",
            "Custom:[{'symbol': 'NSE:NIFTY50-INDEX', 'timestamp': 1665988575, 'fyCode': 7207, 'fyFlag': 2, 'pktLen': 48, 'ltp': 17237.35, 'open_price': 17144.8, 'high_price': 17284.3, 'low_price': 17098.55, 'close_price': 17185.7, 'min_open_price': 17238.9, 'min_high_price': 17239.5, 'min_low_price': 17237.05, 'min_close_price': 17237.35, 'min_volume': 0}]\n",
            "Custom:[{'symbol': 'NSE:NIFTY50-INDEX', 'timestamp': 1665988576, 'fyCode': 7207, 'fyFlag': 2, 'pktLen': 48, 'ltp': 17237.5, 'open_price': 17144.8, 'high_price': 17284.3, 'low_price': 17098.55, 'close_price': 17185.7, 'min_open_price': 17238.9, 'min_high_price': 17239.5, 'min_low_price': 17237.05, 'min_close_price': 17237.5, 'min_volume': 0}]\n",
            "Custom:[{'symbol': 'NSE:NIFTY50-INDEX', 'timestamp': 1665988577, 'fyCode': 7207, 'fyFlag': 2, 'pktLen': 48, 'ltp': 17237.55, 'open_price': 17144.8, 'high_price': 17284.3, 'low_price': 17098.55, 'close_price': 17185.7, 'min_open_price': 17238.9, 'min_high_price': 17239.5, 'min_low_price': 17237.05, 'min_close_price': 17237.55, 'min_volume': 0}]\n",
            "Custom:[{'symbol': 'NSE:NIFTY50-INDEX', 'timestamp': 1665988581, 'fyCode': 7207, 'fyFlag': 2, 'pktLen': 48, 'ltp': 17237.2, 'open_price': 17144.8, 'high_price': 17284.3, 'low_price': 17098.55, 'close_price': 17185.7, 'min_open_price': 17238.9, 'min_high_price': 17239.5, 'min_low_price': 17236.85, 'min_close_price': 17237.2, 'min_volume': 0}]\n",
            "Custom:[{'symbol': 'NSE:NIFTY50-INDEX', 'timestamp': 1665988582, 'fyCode': 7207, 'fyFlag': 2, 'pktLen': 48, 'ltp': 17237.05, 'open_price': 17144.8, 'high_price': 17284.3, 'low_price': 17098.55, 'close_price': 17185.7, 'min_open_price': 17238.9, 'min_high_price': 17239.5, 'min_low_price': 17236.85, 'min_close_price': 17237.05, 'min_volume': 0}]\n",
            "Custom:[{'symbol': 'NSE:NIFTY50-INDEX', 'timestamp': 1665988585, 'fyCode': 7207, 'fyFlag': 2, 'pktLen': 48, 'ltp': 17236.65, 'open_price': 17144.8, 'high_price': 17284.3, 'low_price': 17098.55, 'close_price': 17185.7, 'min_open_price': 17238.9, 'min_high_price': 17239.5, 'min_low_price': 17236.65, 'min_close_price': 17236.65, 'min_volume': 0}]\n",
            "Custom:[{'symbol': 'NSE:NIFTY50-INDEX', 'timestamp': 1665988586, 'fyCode': 7207, 'fyFlag': 2, 'pktLen': 48, 'ltp': 17237.75, 'open_price': 17144.8, 'high_price': 17284.3, 'low_price': 17098.55, 'close_price': 17185.7, 'min_open_price': 17238.9, 'min_high_price': 17239.5, 'min_low_price': 17236.65, 'min_close_price': 17237.75, 'min_volume': 0}]\n",
            "Custom:[{'symbol': 'NSE:NIFTY50-INDEX', 'timestamp': 1665988587, 'fyCode': 7207, 'fyFlag': 2, 'pktLen': 48, 'ltp': 17237.25, 'open_price': 17144.8, 'high_price': 17284.3, 'low_price': 17098.55, 'close_price': 17185.7, 'min_open_price': 17238.9, 'min_high_price': 17239.5, 'min_low_price': 17236.65, 'min_close_price': 17237.25, 'min_volume': 0}]\n",
            "Custom:[{'symbol': 'NSE:NIFTY50-INDEX', 'timestamp': 1665988589, 'fyCode': 7207, 'fyFlag': 2, 'pktLen': 48, 'ltp': 17237.5, 'open_price': 17144.8, 'high_price': 17284.3, 'low_price': 17098.55, 'close_price': 17185.7, 'min_open_price': 17238.9, 'min_high_price': 17239.5, 'min_low_price': 17236.65, 'min_close_price': 17237.5, 'min_volume': 0}]\n",
            "Custom:[{'symbol': 'NSE:NIFTY50-INDEX', 'timestamp': 1665988590, 'fyCode': 7207, 'fyFlag': 2, 'pktLen': 48, 'ltp': 17237.4, 'open_price': 17144.8, 'high_price': 17284.3, 'low_price': 17098.55, 'close_price': 17185.7, 'min_open_price': 17238.9, 'min_high_price': 17239.5, 'min_low_price': 17236.65, 'min_close_price': 17237.4, 'min_volume': 0}]\n",
            "Custom:[{'symbol': 'NSE:NIFTY50-INDEX', 'timestamp': 1665988591, 'fyCode': 7207, 'fyFlag': 2, 'pktLen': 48, 'ltp': 17237.35, 'open_price': 17144.8, 'high_price': 17284.3, 'low_price': 17098.55, 'close_price': 17185.7, 'min_open_price': 17238.9, 'min_high_price': 17239.5, 'min_low_price': 17236.65, 'min_close_price': 17237.35, 'min_volume': 0}]\n",
            "Custom:[{'symbol': 'NSE:NIFTY50-INDEX', 'timestamp': 1665988592, 'fyCode': 7207, 'fyFlag': 2, 'pktLen': 48, 'ltp': 17237.5, 'open_price': 17144.8, 'high_price': 17284.3, 'low_price': 17098.55, 'close_price': 17185.7, 'min_open_price': 17238.9, 'min_high_price': 17239.5, 'min_low_price': 17236.65, 'min_close_price': 17237.5, 'min_volume': 0}]\n",
            "Custom:[{'symbol': 'NSE:NIFTY50-INDEX', 'timestamp': 1665988593, 'fyCode': 7207, 'fyFlag': 2, 'pktLen': 48, 'ltp': 17237.6, 'open_price': 17144.8, 'high_price': 17284.3, 'low_price': 17098.55, 'close_price': 17185.7, 'min_open_price': 17238.9, 'min_high_price': 17239.5, 'min_low_price': 17236.65, 'min_close_price': 17237.6, 'min_volume': 0}]\n",
            "Custom:[{'symbol': 'NSE:NIFTY50-INDEX', 'timestamp': 1665988594, 'fyCode': 7207, 'fyFlag': 2, 'pktLen': 48, 'ltp': 17237.55, 'open_price': 17144.8, 'high_price': 17284.3, 'low_price': 17098.55, 'close_price': 17185.7, 'min_open_price': 17238.9, 'min_high_price': 17239.5, 'min_low_price': 17236.65, 'min_close_price': 17237.55, 'min_volume': 0}]\n",
            "Custom:[{'symbol': 'NSE:NIFTY50-INDEX', 'timestamp': 1665988595, 'fyCode': 7207, 'fyFlag': 2, 'pktLen': 48, 'ltp': 17236.65, 'open_price': 17144.8, 'high_price': 17284.3, 'low_price': 17098.55, 'close_price': 17185.7, 'min_open_price': 17238.9, 'min_high_price': 17239.5, 'min_low_price': 17236.65, 'min_close_price': 17236.65, 'min_volume': 0}]\n",
            "Custom:[{'symbol': 'NSE:NIFTY50-INDEX', 'timestamp': 1665988596, 'fyCode': 7207, 'fyFlag': 2, 'pktLen': 48, 'ltp': 17236.6, 'open_price': 17144.8, 'high_price': 17284.3, 'low_price': 17098.55, 'close_price': 17185.7, 'min_open_price': 17238.9, 'min_high_price': 17239.5, 'min_low_price': 17236.6, 'min_close_price': 17236.6, 'min_volume': 0}]\n",
            "Custom:[{'symbol': 'NSE:NIFTY50-INDEX', 'timestamp': 1665988597, 'fyCode': 7207, 'fyFlag': 2, 'pktLen': 48, 'ltp': 17236.75, 'open_price': 17144.8, 'high_price': 17284.3, 'low_price': 17098.55, 'close_price': 17185.7, 'min_open_price': 17238.9, 'min_high_price': 17239.5, 'min_low_price': 17236.6, 'min_close_price': 17236.75, 'min_volume': 0}]\n",
            "Custom:[{'symbol': 'NSE:NIFTY50-INDEX', 'timestamp': 1665988598, 'fyCode': 7207, 'fyFlag': 2, 'pktLen': 48, 'ltp': 17236.7, 'open_price': 17144.8, 'high_price': 17284.3, 'low_price': 17098.55, 'close_price': 17185.7, 'min_open_price': 17238.9, 'min_high_price': 17239.5, 'min_low_price': 17236.6, 'min_close_price': 17236.7, 'min_volume': 0}]\n",
            "Custom:[{'symbol': 'NSE:NIFTY50-INDEX', 'timestamp': 1665988599, 'fyCode': 7207, 'fyFlag': 2, 'pktLen': 48, 'ltp': 17236.55, 'open_price': 17144.8, 'high_price': 17284.3, 'low_price': 17098.55, 'close_price': 17185.7, 'min_open_price': 17238.9, 'min_high_price': 17239.5, 'min_low_price': 17236.55, 'min_close_price': 17236.55, 'min_volume': 0}]\n",
            "Custom:[{'symbol': 'NSE:NIFTY50-INDEX', 'timestamp': 1665988600, 'fyCode': 7207, 'fyFlag': 2, 'pktLen': 48, 'ltp': 17236.0, 'open_price': 17144.8, 'high_price': 17284.3, 'low_price': 17098.55, 'close_price': 17185.7, 'min_open_price': 17238.9, 'min_high_price': 17239.5, 'min_low_price': 17236.0, 'min_close_price': 17236.0, 'min_volume': 0}]\n",
            "Custom:[{'symbol': 'NSE:NIFTY50-INDEX', 'timestamp': 1665988601, 'fyCode': 7207, 'fyFlag': 2, 'pktLen': 48, 'ltp': 17236.05, 'open_price': 17144.8, 'high_price': 17284.3, 'low_price': 17098.55, 'close_price': 17185.7, 'min_open_price': 17238.9, 'min_high_price': 17239.5, 'min_low_price': 17236.0, 'min_close_price': 17236.05, 'min_volume': 0}]\n",
            "Custom:[{'symbol': 'NSE:NIFTY50-INDEX', 'timestamp': 1665988602, 'fyCode': 7207, 'fyFlag': 2, 'pktLen': 48, 'ltp': 17235.9, 'open_price': 17144.8, 'high_price': 17284.3, 'low_price': 17098.55, 'close_price': 17185.7, 'min_open_price': 17238.9, 'min_high_price': 17239.5, 'min_low_price': 17235.9, 'min_close_price': 17235.9, 'min_volume': 0}]\n",
            "Custom:[{'symbol': 'NSE:NIFTY50-INDEX', 'timestamp': 1665988603, 'fyCode': 7207, 'fyFlag': 2, 'pktLen': 48, 'ltp': 17236.45, 'open_price': 17144.8, 'high_price': 17284.3, 'low_price': 17098.55, 'close_price': 17185.7, 'min_open_price': 17238.9, 'min_high_price': 17239.5, 'min_low_price': 17235.9, 'min_close_price': 17236.45, 'min_volume': 0}]\n",
            "Custom:[{'symbol': 'NSE:NIFTY50-INDEX', 'timestamp': 1665988604, 'fyCode': 7207, 'fyFlag': 2, 'pktLen': 48, 'ltp': 17236.25, 'open_price': 17144.8, 'high_price': 17284.3, 'low_price': 17098.55, 'close_price': 17185.7, 'min_open_price': 17238.9, 'min_high_price': 17239.5, 'min_low_price': 17235.9, 'min_close_price': 17236.25, 'min_volume': 0}]\n",
            "Custom:[{'symbol': 'NSE:NIFTY50-INDEX', 'timestamp': 1665988605, 'fyCode': 7207, 'fyFlag': 2, 'pktLen': 48, 'ltp': 17236.35, 'open_price': 17144.8, 'high_price': 17284.3, 'low_price': 17098.55, 'close_price': 17185.7, 'min_open_price': 17238.9, 'min_high_price': 17239.5, 'min_low_price': 17235.9, 'min_close_price': 17236.35, 'min_volume': 0}]\n",
            "Custom:[{'symbol': 'NSE:NIFTY50-INDEX', 'timestamp': 1665988606, 'fyCode': 7207, 'fyFlag': 2, 'pktLen': 48, 'ltp': 17236.25, 'open_price': 17144.8, 'high_price': 17284.3, 'low_price': 17098.55, 'close_price': 17185.7, 'min_open_price': 17238.9, 'min_high_price': 17239.5, 'min_low_price': 17235.9, 'min_close_price': 17236.25, 'min_volume': 0}]\n",
            "Custom:[{'symbol': 'NSE:NIFTY50-INDEX', 'timestamp': 1665988607, 'fyCode': 7207, 'fyFlag': 2, 'pktLen': 48, 'ltp': 17237.3, 'open_price': 17144.8, 'high_price': 17284.3, 'low_price': 17098.55, 'close_price': 17185.7, 'min_open_price': 17238.9, 'min_high_price': 17239.5, 'min_low_price': 17235.9, 'min_close_price': 17237.3, 'min_volume': 0}]\n",
            "Custom:[{'symbol': 'NSE:NIFTY50-INDEX', 'timestamp': 1665988609, 'fyCode': 7207, 'fyFlag': 2, 'pktLen': 48, 'ltp': 17237.5, 'open_price': 17144.8, 'high_price': 17284.3, 'low_price': 17098.55, 'close_price': 17185.7, 'min_open_price': 17238.9, 'min_high_price': 17239.5, 'min_low_price': 17235.9, 'min_close_price': 17237.5, 'min_volume': 0}]\n",
            "Custom:[{'symbol': 'NSE:NIFTY50-INDEX', 'timestamp': 1665988610, 'fyCode': 7207, 'fyFlag': 2, 'pktLen': 48, 'ltp': 17237.3, 'open_price': 17144.8, 'high_price': 17284.3, 'low_price': 17098.55, 'close_price': 17185.7, 'min_open_price': 17238.9, 'min_high_price': 17239.5, 'min_low_price': 17235.9, 'min_close_price': 17237.3, 'min_volume': 0}]\n",
            "Custom:[{'symbol': 'NSE:NIFTY50-INDEX', 'timestamp': 1665988611, 'fyCode': 7207, 'fyFlag': 2, 'pktLen': 48, 'ltp': 17236.8, 'open_price': 17144.8, 'high_price': 17284.3, 'low_price': 17098.55, 'close_price': 17185.7, 'min_open_price': 17238.9, 'min_high_price': 17239.5, 'min_low_price': 17235.9, 'min_close_price': 17236.8, 'min_volume': 0}]\n",
            "Custom:[{'symbol': 'NSE:NIFTY50-INDEX', 'timestamp': 1665988612, 'fyCode': 7207, 'fyFlag': 2, 'pktLen': 48, 'ltp': 17237.5, 'open_price': 17144.8, 'high_price': 17284.3, 'low_price': 17098.55, 'close_price': 17185.7, 'min_open_price': 17238.9, 'min_high_price': 17239.5, 'min_low_price': 17235.9, 'min_close_price': 17237.5, 'min_volume': 0}]\n",
            "Custom:[{'symbol': 'NSE:NIFTY50-INDEX', 'timestamp': 1665988613, 'fyCode': 7207, 'fyFlag': 2, 'pktLen': 48, 'ltp': 17236.75, 'open_price': 17144.8, 'high_price': 17284.3, 'low_price': 17098.55, 'close_price': 17185.7, 'min_open_price': 17238.9, 'min_high_price': 17239.5, 'min_low_price': 17235.9, 'min_close_price': 17236.75, 'min_volume': 0}]\n",
            "Custom:[{'symbol': 'NSE:NIFTY50-INDEX', 'timestamp': 1665988614, 'fyCode': 7207, 'fyFlag': 2, 'pktLen': 48, 'ltp': 17237.15, 'open_price': 17144.8, 'high_price': 17284.3, 'low_price': 17098.55, 'close_price': 17185.7, 'min_open_price': 17238.9, 'min_high_price': 17239.5, 'min_low_price': 17235.9, 'min_close_price': 17237.15, 'min_volume': 0}]\n",
            "Custom:[{'symbol': 'NSE:NIFTY50-INDEX', 'timestamp': 1665988615, 'fyCode': 7207, 'fyFlag': 2, 'pktLen': 48, 'ltp': 17236.9, 'open_price': 17144.8, 'high_price': 17284.3, 'low_price': 17098.55, 'close_price': 17185.7, 'min_open_price': 17238.9, 'min_high_price': 17239.5, 'min_low_price': 17235.9, 'min_close_price': 17236.9, 'min_volume': 0}]\n",
            "Custom:[{'symbol': 'NSE:NIFTY50-INDEX', 'timestamp': 1665988616, 'fyCode': 7207, 'fyFlag': 2, 'pktLen': 48, 'ltp': 17237.05, 'open_price': 17144.8, 'high_price': 17284.3, 'low_price': 17098.55, 'close_price': 17185.7, 'min_open_price': 17238.9, 'min_high_price': 17239.5, 'min_low_price': 17235.9, 'min_close_price': 17237.05, 'min_volume': 0}]\n",
            "Custom:[{'symbol': 'NSE:NIFTY50-INDEX', 'timestamp': 1665988617, 'fyCode': 7207, 'fyFlag': 2, 'pktLen': 48, 'ltp': 17237.0, 'open_price': 17144.8, 'high_price': 17284.3, 'low_price': 17098.55, 'close_price': 17185.7, 'min_open_price': 17238.9, 'min_high_price': 17239.5, 'min_low_price': 17235.9, 'min_close_price': 17237.0, 'min_volume': 0}]\n",
            "Custom:[{'symbol': 'NSE:NIFTY50-INDEX', 'timestamp': 1665988618, 'fyCode': 7207, 'fyFlag': 2, 'pktLen': 48, 'ltp': 17236.8, 'open_price': 17144.8, 'high_price': 17284.3, 'low_price': 17098.55, 'close_price': 17185.7, 'min_open_price': 17238.9, 'min_high_price': 17239.5, 'min_low_price': 17235.9, 'min_close_price': 17236.8, 'min_volume': 0}]\n",
            "Custom:[{'symbol': 'NSE:NIFTY50-INDEX', 'timestamp': 1665988619, 'fyCode': 7207, 'fyFlag': 2, 'pktLen': 48, 'ltp': 17236.9, 'open_price': 17144.8, 'high_price': 17284.3, 'low_price': 17098.55, 'close_price': 17185.7, 'min_open_price': 17238.9, 'min_high_price': 17239.5, 'min_low_price': 17235.9, 'min_close_price': 17236.9, 'min_volume': 0}]\n",
            "Custom:[{'symbol': 'NSE:NIFTY50-INDEX', 'timestamp': 1665988620, 'fyCode': 7207, 'fyFlag': 2, 'pktLen': 48, 'ltp': 17236.75, 'open_price': 17144.8, 'high_price': 17284.3, 'low_price': 17098.55, 'close_price': 17185.7, 'min_open_price': 17236.75, 'min_high_price': 17236.75, 'min_low_price': 17236.75, 'min_close_price': 17236.75, 'min_volume': 0}]\n",
            "Custom:[{'symbol': 'NSE:NIFTY50-INDEX', 'timestamp': 1665988621, 'fyCode': 7207, 'fyFlag': 2, 'pktLen': 48, 'ltp': 17236.9, 'open_price': 17144.8, 'high_price': 17284.3, 'low_price': 17098.55, 'close_price': 17185.7, 'min_open_price': 17236.75, 'min_high_price': 17236.9, 'min_low_price': 17236.75, 'min_close_price': 17236.9, 'min_volume': 0}]\n",
            "Custom:[{'symbol': 'NSE:NIFTY50-INDEX', 'timestamp': 1665988622, 'fyCode': 7207, 'fyFlag': 2, 'pktLen': 48, 'ltp': 17237.1, 'open_price': 17144.8, 'high_price': 17284.3, 'low_price': 17098.55, 'close_price': 17185.7, 'min_open_price': 17236.75, 'min_high_price': 17237.1, 'min_low_price': 17236.75, 'min_close_price': 17237.1, 'min_volume': 0}]\n",
            "Custom:[{'symbol': 'NSE:NIFTY50-INDEX', 'timestamp': 1665988623, 'fyCode': 7207, 'fyFlag': 2, 'pktLen': 48, 'ltp': 17237.0, 'open_price': 17144.8, 'high_price': 17284.3, 'low_price': 17098.55, 'close_price': 17185.7, 'min_open_price': 17236.75, 'min_high_price': 17237.1, 'min_low_price': 17236.75, 'min_close_price': 17237.0, 'min_volume': 0}]\n",
            "Custom:[{'symbol': 'NSE:NIFTY50-INDEX', 'timestamp': 1665988624, 'fyCode': 7207, 'fyFlag': 2, 'pktLen': 48, 'ltp': 17237.45, 'open_price': 17144.8, 'high_price': 17284.3, 'low_price': 17098.55, 'close_price': 17185.7, 'min_open_price': 17236.75, 'min_high_price': 17237.45, 'min_low_price': 17236.75, 'min_close_price': 17237.45, 'min_volume': 0}]\n",
            "Custom:[{'symbol': 'NSE:NIFTY50-INDEX', 'timestamp': 1665988625, 'fyCode': 7207, 'fyFlag': 2, 'pktLen': 48, 'ltp': 17237.35, 'open_price': 17144.8, 'high_price': 17284.3, 'low_price': 17098.55, 'close_price': 17185.7, 'min_open_price': 17236.75, 'min_high_price': 17237.45, 'min_low_price': 17236.75, 'min_close_price': 17237.35, 'min_volume': 0}]\n",
            "Custom:[{'symbol': 'NSE:NIFTY50-INDEX', 'timestamp': 1665988626, 'fyCode': 7207, 'fyFlag': 2, 'pktLen': 48, 'ltp': 17237.0, 'open_price': 17144.8, 'high_price': 17284.3, 'low_price': 17098.55, 'close_price': 17185.7, 'min_open_price': 17236.75, 'min_high_price': 17237.45, 'min_low_price': 17236.75, 'min_close_price': 17237.0, 'min_volume': 0}]\n",
            "Custom:[{'symbol': 'NSE:NIFTY50-INDEX', 'timestamp': 1665988627, 'fyCode': 7207, 'fyFlag': 2, 'pktLen': 48, 'ltp': 17237.55, 'open_price': 17144.8, 'high_price': 17284.3, 'low_price': 17098.55, 'close_price': 17185.7, 'min_open_price': 17236.75, 'min_high_price': 17237.55, 'min_low_price': 17236.75, 'min_close_price': 17237.55, 'min_volume': 0}]\n",
            "Custom:[{'symbol': 'NSE:NIFTY50-INDEX', 'timestamp': 1665988628, 'fyCode': 7207, 'fyFlag': 2, 'pktLen': 48, 'ltp': 17236.8, 'open_price': 17144.8, 'high_price': 17284.3, 'low_price': 17098.55, 'close_price': 17185.7, 'min_open_price': 17236.75, 'min_high_price': 17237.55, 'min_low_price': 17236.75, 'min_close_price': 17236.8, 'min_volume': 0}]\n",
            "Custom:[{'symbol': 'NSE:NIFTY50-INDEX', 'timestamp': 1665988629, 'fyCode': 7207, 'fyFlag': 2, 'pktLen': 48, 'ltp': 17237.1, 'open_price': 17144.8, 'high_price': 17284.3, 'low_price': 17098.55, 'close_price': 17185.7, 'min_open_price': 17236.75, 'min_high_price': 17237.55, 'min_low_price': 17236.75, 'min_close_price': 17237.1, 'min_volume': 0}]\n",
            "Custom:[{'symbol': 'NSE:NIFTY50-INDEX', 'timestamp': 1665988630, 'fyCode': 7207, 'fyFlag': 2, 'pktLen': 48, 'ltp': 17236.5, 'open_price': 17144.8, 'high_price': 17284.3, 'low_price': 17098.55, 'close_price': 17185.7, 'min_open_price': 17236.75, 'min_high_price': 17237.55, 'min_low_price': 17236.5, 'min_close_price': 17236.5, 'min_volume': 0}]\n",
            "Custom:[{'symbol': 'NSE:NIFTY50-INDEX', 'timestamp': 1665988632, 'fyCode': 7207, 'fyFlag': 2, 'pktLen': 48, 'ltp': 17235.8, 'open_price': 17144.8, 'high_price': 17284.3, 'low_price': 17098.55, 'close_price': 17185.7, 'min_open_price': 17236.75, 'min_high_price': 17237.55, 'min_low_price': 17235.8, 'min_close_price': 17235.8, 'min_volume': 0}]\n",
            "Custom:[{'symbol': 'NSE:NIFTY50-INDEX', 'timestamp': 1665988633, 'fyCode': 7207, 'fyFlag': 2, 'pktLen': 48, 'ltp': 17233.85, 'open_price': 17144.8, 'high_price': 17284.3, 'low_price': 17098.55, 'close_price': 17185.7, 'min_open_price': 17236.75, 'min_high_price': 17237.55, 'min_low_price': 17233.85, 'min_close_price': 17233.85, 'min_volume': 0}]\n",
            "Custom:[{'symbol': 'NSE:NIFTY50-INDEX', 'timestamp': 1665988634, 'fyCode': 7207, 'fyFlag': 2, 'pktLen': 48, 'ltp': 17233.8, 'open_price': 17144.8, 'high_price': 17284.3, 'low_price': 17098.55, 'close_price': 17185.7, 'min_open_price': 17236.75, 'min_high_price': 17237.55, 'min_low_price': 17233.8, 'min_close_price': 17233.8, 'min_volume': 0}]\n",
            "Custom:[{'symbol': 'NSE:NIFTY50-INDEX', 'timestamp': 1665988635, 'fyCode': 7207, 'fyFlag': 2, 'pktLen': 48, 'ltp': 17233.4, 'open_price': 17144.8, 'high_price': 17284.3, 'low_price': 17098.55, 'close_price': 17185.7, 'min_open_price': 17236.75, 'min_high_price': 17237.55, 'min_low_price': 17233.4, 'min_close_price': 17233.4, 'min_volume': 0}]\n",
            "Custom:[{'symbol': 'NSE:NIFTY50-INDEX', 'timestamp': 1665988636, 'fyCode': 7207, 'fyFlag': 2, 'pktLen': 48, 'ltp': 17232.55, 'open_price': 17144.8, 'high_price': 17284.3, 'low_price': 17098.55, 'close_price': 17185.7, 'min_open_price': 17236.75, 'min_high_price': 17237.55, 'min_low_price': 17232.55, 'min_close_price': 17232.55, 'min_volume': 0}]\n",
            "Custom:[{'symbol': 'NSE:NIFTY50-INDEX', 'timestamp': 1665988637, 'fyCode': 7207, 'fyFlag': 2, 'pktLen': 48, 'ltp': 17233.25, 'open_price': 17144.8, 'high_price': 17284.3, 'low_price': 17098.55, 'close_price': 17185.7, 'min_open_price': 17236.75, 'min_high_price': 17237.55, 'min_low_price': 17232.55, 'min_close_price': 17233.25, 'min_volume': 0}]\n",
            "Custom:[{'symbol': 'NSE:NIFTY50-INDEX', 'timestamp': 1665988638, 'fyCode': 7207, 'fyFlag': 2, 'pktLen': 48, 'ltp': 17232.35, 'open_price': 17144.8, 'high_price': 17284.3, 'low_price': 17098.55, 'close_price': 17185.7, 'min_open_price': 17236.75, 'min_high_price': 17237.55, 'min_low_price': 17232.35, 'min_close_price': 17232.35, 'min_volume': 0}]\n",
            "Custom:[{'symbol': 'NSE:NIFTY50-INDEX', 'timestamp': 1665988639, 'fyCode': 7207, 'fyFlag': 2, 'pktLen': 48, 'ltp': 17232.2, 'open_price': 17144.8, 'high_price': 17284.3, 'low_price': 17098.55, 'close_price': 17185.7, 'min_open_price': 17236.75, 'min_high_price': 17237.55, 'min_low_price': 17232.2, 'min_close_price': 17232.2, 'min_volume': 0}]\n",
            "Custom:[{'symbol': 'NSE:NIFTY50-INDEX', 'timestamp': 1665988640, 'fyCode': 7207, 'fyFlag': 2, 'pktLen': 48, 'ltp': 17232.15, 'open_price': 17144.8, 'high_price': 17284.3, 'low_price': 17098.55, 'close_price': 17185.7, 'min_open_price': 17236.75, 'min_high_price': 17237.55, 'min_low_price': 17232.15, 'min_close_price': 17232.15, 'min_volume': 0}]\n",
            "Custom:[{'symbol': 'NSE:NIFTY50-INDEX', 'timestamp': 1665988641, 'fyCode': 7207, 'fyFlag': 2, 'pktLen': 48, 'ltp': 17232.25, 'open_price': 17144.8, 'high_price': 17284.3, 'low_price': 17098.55, 'close_price': 17185.7, 'min_open_price': 17236.75, 'min_high_price': 17237.55, 'min_low_price': 17232.15, 'min_close_price': 17232.25, 'min_volume': 0}]\n",
            "Custom:[{'symbol': 'NSE:NIFTY50-INDEX', 'timestamp': 1665988642, 'fyCode': 7207, 'fyFlag': 2, 'pktLen': 48, 'ltp': 17232.45, 'open_price': 17144.8, 'high_price': 17284.3, 'low_price': 17098.55, 'close_price': 17185.7, 'min_open_price': 17236.75, 'min_high_price': 17237.55, 'min_low_price': 17232.15, 'min_close_price': 17232.45, 'min_volume': 0}]\n",
            "Custom:[{'symbol': 'NSE:NIFTY50-INDEX', 'timestamp': 1665988643, 'fyCode': 7207, 'fyFlag': 2, 'pktLen': 48, 'ltp': 17233.0, 'open_price': 17144.8, 'high_price': 17284.3, 'low_price': 17098.55, 'close_price': 17185.7, 'min_open_price': 17236.75, 'min_high_price': 17237.55, 'min_low_price': 17232.15, 'min_close_price': 17233.0, 'min_volume': 0}]\n",
            "Custom:[{'symbol': 'NSE:NIFTY50-INDEX', 'timestamp': 1665988644, 'fyCode': 7207, 'fyFlag': 2, 'pktLen': 48, 'ltp': 17232.25, 'open_price': 17144.8, 'high_price': 17284.3, 'low_price': 17098.55, 'close_price': 17185.7, 'min_open_price': 17236.75, 'min_high_price': 17237.55, 'min_low_price': 17232.15, 'min_close_price': 17232.25, 'min_volume': 0}]\n",
            "Custom:[{'symbol': 'NSE:NIFTY50-INDEX', 'timestamp': 1665988645, 'fyCode': 7207, 'fyFlag': 2, 'pktLen': 48, 'ltp': 17231.95, 'open_price': 17144.8, 'high_price': 17284.3, 'low_price': 17098.55, 'close_price': 17185.7, 'min_open_price': 17236.75, 'min_high_price': 17237.55, 'min_low_price': 17231.95, 'min_close_price': 17231.95, 'min_volume': 0}]\n",
            "Custom:[{'symbol': 'NSE:NIFTY50-INDEX', 'timestamp': 1665988646, 'fyCode': 7207, 'fyFlag': 2, 'pktLen': 48, 'ltp': 17232.1, 'open_price': 17144.8, 'high_price': 17284.3, 'low_price': 17098.55, 'close_price': 17185.7, 'min_open_price': 17236.75, 'min_high_price': 17237.55, 'min_low_price': 17231.95, 'min_close_price': 17232.1, 'min_volume': 0}]\n",
            "Custom:[{'symbol': 'NSE:NIFTY50-INDEX', 'timestamp': 1665988647, 'fyCode': 7207, 'fyFlag': 2, 'pktLen': 48, 'ltp': 17232.6, 'open_price': 17144.8, 'high_price': 17284.3, 'low_price': 17098.55, 'close_price': 17185.7, 'min_open_price': 17236.75, 'min_high_price': 17237.55, 'min_low_price': 17231.95, 'min_close_price': 17232.6, 'min_volume': 0}]\n",
            "Custom:[{'symbol': 'NSE:NIFTY50-INDEX', 'timestamp': 1665988648, 'fyCode': 7207, 'fyFlag': 2, 'pktLen': 48, 'ltp': 17233.95, 'open_price': 17144.8, 'high_price': 17284.3, 'low_price': 17098.55, 'close_price': 17185.7, 'min_open_price': 17236.75, 'min_high_price': 17237.55, 'min_low_price': 17231.95, 'min_close_price': 17233.95, 'min_volume': 0}]\n",
            "Custom:[{'symbol': 'NSE:NIFTY50-INDEX', 'timestamp': 1665988650, 'fyCode': 7207, 'fyFlag': 2, 'pktLen': 48, 'ltp': 17235.1, 'open_price': 17144.8, 'high_price': 17284.3, 'low_price': 17098.55, 'close_price': 17185.7, 'min_open_price': 17236.75, 'min_high_price': 17237.55, 'min_low_price': 17231.95, 'min_close_price': 17235.1, 'min_volume': 0}]\n",
            "Custom:[{'symbol': 'NSE:NIFTY50-INDEX', 'timestamp': 1665988651, 'fyCode': 7207, 'fyFlag': 2, 'pktLen': 48, 'ltp': 17235.45, 'open_price': 17144.8, 'high_price': 17284.3, 'low_price': 17098.55, 'close_price': 17185.7, 'min_open_price': 17236.75, 'min_high_price': 17237.55, 'min_low_price': 17231.95, 'min_close_price': 17235.45, 'min_volume': 0}]\n",
            "Custom:[{'symbol': 'NSE:NIFTY50-INDEX', 'timestamp': 1665988653, 'fyCode': 7207, 'fyFlag': 2, 'pktLen': 48, 'ltp': 17236.25, 'open_price': 17144.8, 'high_price': 17284.3, 'low_price': 17098.55, 'close_price': 17185.7, 'min_open_price': 17236.75, 'min_high_price': 17237.55, 'min_low_price': 17231.95, 'min_close_price': 17236.25, 'min_volume': 0}]\n",
            "Custom:[{'symbol': 'NSE:NIFTY50-INDEX', 'timestamp': 1665988654, 'fyCode': 7207, 'fyFlag': 2, 'pktLen': 48, 'ltp': 17236.6, 'open_price': 17144.8, 'high_price': 17284.3, 'low_price': 17098.55, 'close_price': 17185.7, 'min_open_price': 17236.75, 'min_high_price': 17237.55, 'min_low_price': 17231.95, 'min_close_price': 17236.6, 'min_volume': 0}]\n",
            "Custom:[{'symbol': 'NSE:NIFTY50-INDEX', 'timestamp': 1665988655, 'fyCode': 7207, 'fyFlag': 2, 'pktLen': 48, 'ltp': 17236.2, 'open_price': 17144.8, 'high_price': 17284.3, 'low_price': 17098.55, 'close_price': 17185.7, 'min_open_price': 17236.75, 'min_high_price': 17237.55, 'min_low_price': 17231.95, 'min_close_price': 17236.2, 'min_volume': 0}]\n",
            "Custom:[{'symbol': 'NSE:NIFTY50-INDEX', 'timestamp': 1665988656, 'fyCode': 7207, 'fyFlag': 2, 'pktLen': 48, 'ltp': 17236.4, 'open_price': 17144.8, 'high_price': 17284.3, 'low_price': 17098.55, 'close_price': 17185.7, 'min_open_price': 17236.75, 'min_high_price': 17237.55, 'min_low_price': 17231.95, 'min_close_price': 17236.4, 'min_volume': 0}]\n",
            "Custom:[{'symbol': 'NSE:NIFTY50-INDEX', 'timestamp': 1665988657, 'fyCode': 7207, 'fyFlag': 2, 'pktLen': 48, 'ltp': 17236.9, 'open_price': 17144.8, 'high_price': 17284.3, 'low_price': 17098.55, 'close_price': 17185.7, 'min_open_price': 17236.75, 'min_high_price': 17237.55, 'min_low_price': 17231.95, 'min_close_price': 17236.9, 'min_volume': 0}]\n",
            "Custom:[{'symbol': 'NSE:NIFTY50-INDEX', 'timestamp': 1665988658, 'fyCode': 7207, 'fyFlag': 2, 'pktLen': 48, 'ltp': 17238.1, 'open_price': 17144.8, 'high_price': 17284.3, 'low_price': 17098.55, 'close_price': 17185.7, 'min_open_price': 17236.75, 'min_high_price': 17238.1, 'min_low_price': 17231.95, 'min_close_price': 17238.1, 'min_volume': 0}]\n",
            "Custom:[{'symbol': 'NSE:NIFTY50-INDEX', 'timestamp': 1665988659, 'fyCode': 7207, 'fyFlag': 2, 'pktLen': 48, 'ltp': 17238.25, 'open_price': 17144.8, 'high_price': 17284.3, 'low_price': 17098.55, 'close_price': 17185.7, 'min_open_price': 17236.75, 'min_high_price': 17238.25, 'min_low_price': 17231.95, 'min_close_price': 17238.25, 'min_volume': 0}]\n",
            "Custom:[{'symbol': 'NSE:NIFTY50-INDEX', 'timestamp': 1665988660, 'fyCode': 7207, 'fyFlag': 2, 'pktLen': 48, 'ltp': 17239.05, 'open_price': 17144.8, 'high_price': 17284.3, 'low_price': 17098.55, 'close_price': 17185.7, 'min_open_price': 17236.75, 'min_high_price': 17239.05, 'min_low_price': 17231.95, 'min_close_price': 17239.05, 'min_volume': 0}]\n",
            "Custom:[{'symbol': 'NSE:NIFTY50-INDEX', 'timestamp': 1665988661, 'fyCode': 7207, 'fyFlag': 2, 'pktLen': 48, 'ltp': 17238.65, 'open_price': 17144.8, 'high_price': 17284.3, 'low_price': 17098.55, 'close_price': 17185.7, 'min_open_price': 17236.75, 'min_high_price': 17239.05, 'min_low_price': 17231.95, 'min_close_price': 17238.65, 'min_volume': 0}]\n",
            "Custom:[{'symbol': 'NSE:NIFTY50-INDEX', 'timestamp': 1665988662, 'fyCode': 7207, 'fyFlag': 2, 'pktLen': 48, 'ltp': 17238.6, 'open_price': 17144.8, 'high_price': 17284.3, 'low_price': 17098.55, 'close_price': 17185.7, 'min_open_price': 17236.75, 'min_high_price': 17239.05, 'min_low_price': 17231.95, 'min_close_price': 17238.6, 'min_volume': 0}]\n",
            "Custom:[{'symbol': 'NSE:NIFTY50-INDEX', 'timestamp': 1665988663, 'fyCode': 7207, 'fyFlag': 2, 'pktLen': 48, 'ltp': 17240.2, 'open_price': 17144.8, 'high_price': 17284.3, 'low_price': 17098.55, 'close_price': 17185.7, 'min_open_price': 17236.75, 'min_high_price': 17240.2, 'min_low_price': 17231.95, 'min_close_price': 17240.2, 'min_volume': 0}]\n",
            "Custom:[{'symbol': 'NSE:NIFTY50-INDEX', 'timestamp': 1665988664, 'fyCode': 7207, 'fyFlag': 2, 'pktLen': 48, 'ltp': 17239.95, 'open_price': 17144.8, 'high_price': 17284.3, 'low_price': 17098.55, 'close_price': 17185.7, 'min_open_price': 17236.75, 'min_high_price': 17240.2, 'min_low_price': 17231.95, 'min_close_price': 17239.95, 'min_volume': 0}]\n",
            "Custom:[{'symbol': 'NSE:NIFTY50-INDEX', 'timestamp': 1665988665, 'fyCode': 7207, 'fyFlag': 2, 'pktLen': 48, 'ltp': 17240.35, 'open_price': 17144.8, 'high_price': 17284.3, 'low_price': 17098.55, 'close_price': 17185.7, 'min_open_price': 17236.75, 'min_high_price': 17240.35, 'min_low_price': 17231.95, 'min_close_price': 17240.35, 'min_volume': 0}]\n",
            "Custom:[{'symbol': 'NSE:NIFTY50-INDEX', 'timestamp': 1665988666, 'fyCode': 7207, 'fyFlag': 2, 'pktLen': 48, 'ltp': 17240.4, 'open_price': 17144.8, 'high_price': 17284.3, 'low_price': 17098.55, 'close_price': 17185.7, 'min_open_price': 17236.75, 'min_high_price': 17240.4, 'min_low_price': 17231.95, 'min_close_price': 17240.4, 'min_volume': 0}]\n",
            "Custom:[{'symbol': 'NSE:NIFTY50-INDEX', 'timestamp': 1665988667, 'fyCode': 7207, 'fyFlag': 2, 'pktLen': 48, 'ltp': 17240.2, 'open_price': 17144.8, 'high_price': 17284.3, 'low_price': 17098.55, 'close_price': 17185.7, 'min_open_price': 17236.75, 'min_high_price': 17240.4, 'min_low_price': 17231.95, 'min_close_price': 17240.2, 'min_volume': 0}]\n",
            "Custom:[{'symbol': 'NSE:NIFTY50-INDEX', 'timestamp': 1665988668, 'fyCode': 7207, 'fyFlag': 2, 'pktLen': 48, 'ltp': 17239.95, 'open_price': 17144.8, 'high_price': 17284.3, 'low_price': 17098.55, 'close_price': 17185.7, 'min_open_price': 17236.75, 'min_high_price': 17240.4, 'min_low_price': 17231.95, 'min_close_price': 17239.95, 'min_volume': 0}]\n",
            "Custom:[{'symbol': 'NSE:NIFTY50-INDEX', 'timestamp': 1665988669, 'fyCode': 7207, 'fyFlag': 2, 'pktLen': 48, 'ltp': 17240.8, 'open_price': 17144.8, 'high_price': 17284.3, 'low_price': 17098.55, 'close_price': 17185.7, 'min_open_price': 17236.75, 'min_high_price': 17240.8, 'min_low_price': 17231.95, 'min_close_price': 17240.8, 'min_volume': 0}]\n",
            "Custom:[{'symbol': 'NSE:NIFTY50-INDEX', 'timestamp': 1665988670, 'fyCode': 7207, 'fyFlag': 2, 'pktLen': 48, 'ltp': 17240.95, 'open_price': 17144.8, 'high_price': 17284.3, 'low_price': 17098.55, 'close_price': 17185.7, 'min_open_price': 17236.75, 'min_high_price': 17240.95, 'min_low_price': 17231.95, 'min_close_price': 17240.95, 'min_volume': 0}]\n",
            "Custom:[{'symbol': 'NSE:NIFTY50-INDEX', 'timestamp': 1665988671, 'fyCode': 7207, 'fyFlag': 2, 'pktLen': 48, 'ltp': 17239.95, 'open_price': 17144.8, 'high_price': 17284.3, 'low_price': 17098.55, 'close_price': 17185.7, 'min_open_price': 17236.75, 'min_high_price': 17240.95, 'min_low_price': 17231.95, 'min_close_price': 17239.95, 'min_volume': 0}]\n",
            "Custom:[{'symbol': 'NSE:NIFTY50-INDEX', 'timestamp': 1665988672, 'fyCode': 7207, 'fyFlag': 2, 'pktLen': 48, 'ltp': 17240.8, 'open_price': 17144.8, 'high_price': 17284.3, 'low_price': 17098.55, 'close_price': 17185.7, 'min_open_price': 17236.75, 'min_high_price': 17240.95, 'min_low_price': 17231.95, 'min_close_price': 17240.8, 'min_volume': 0}]\n",
            "Custom:[{'symbol': 'NSE:NIFTY50-INDEX', 'timestamp': 1665988673, 'fyCode': 7207, 'fyFlag': 2, 'pktLen': 48, 'ltp': 17241.1, 'open_price': 17144.8, 'high_price': 17284.3, 'low_price': 17098.55, 'close_price': 17185.7, 'min_open_price': 17236.75, 'min_high_price': 17241.1, 'min_low_price': 17231.95, 'min_close_price': 17241.1, 'min_volume': 0}]\n",
            "Custom:[{'symbol': 'NSE:NIFTY50-INDEX', 'timestamp': 1665988674, 'fyCode': 7207, 'fyFlag': 2, 'pktLen': 48, 'ltp': 17240.9, 'open_price': 17144.8, 'high_price': 17284.3, 'low_price': 17098.55, 'close_price': 17185.7, 'min_open_price': 17236.75, 'min_high_price': 17241.1, 'min_low_price': 17231.95, 'min_close_price': 17240.9, 'min_volume': 0}]\n",
            "Custom:[{'symbol': 'NSE:NIFTY50-INDEX', 'timestamp': 1665988675, 'fyCode': 7207, 'fyFlag': 2, 'pktLen': 48, 'ltp': 17240.95, 'open_price': 17144.8, 'high_price': 17284.3, 'low_price': 17098.55, 'close_price': 17185.7, 'min_open_price': 17236.75, 'min_high_price': 17241.1, 'min_low_price': 17231.95, 'min_close_price': 17240.95, 'min_volume': 0}]\n",
            "Custom:[{'symbol': 'NSE:NIFTY50-INDEX', 'timestamp': 1665988676, 'fyCode': 7207, 'fyFlag': 2, 'pktLen': 48, 'ltp': 17240.95, 'open_price': 17144.8, 'high_price': 17284.3, 'low_price': 17098.55, 'close_price': 17185.7, 'min_open_price': 17236.75, 'min_high_price': 17241.1, 'min_low_price': 17231.95, 'min_close_price': 17240.95, 'min_volume': 0}]\n",
            "Custom:[{'symbol': 'NSE:NIFTY50-INDEX', 'timestamp': 1665988677, 'fyCode': 7207, 'fyFlag': 2, 'pktLen': 48, 'ltp': 17240.7, 'open_price': 17144.8, 'high_price': 17284.3, 'low_price': 17098.55, 'close_price': 17185.7, 'min_open_price': 17236.75, 'min_high_price': 17241.1, 'min_low_price': 17231.95, 'min_close_price': 17240.7, 'min_volume': 0}]\n",
            "Custom:[{'symbol': 'NSE:NIFTY50-INDEX', 'timestamp': 1665988678, 'fyCode': 7207, 'fyFlag': 2, 'pktLen': 48, 'ltp': 17241.15, 'open_price': 17144.8, 'high_price': 17284.3, 'low_price': 17098.55, 'close_price': 17185.7, 'min_open_price': 17236.75, 'min_high_price': 17241.15, 'min_low_price': 17231.95, 'min_close_price': 17241.15, 'min_volume': 0}]\n",
            "Custom:[{'symbol': 'NSE:NIFTY50-INDEX', 'timestamp': 1665988679, 'fyCode': 7207, 'fyFlag': 2, 'pktLen': 48, 'ltp': 17240.55, 'open_price': 17144.8, 'high_price': 17284.3, 'low_price': 17098.55, 'close_price': 17185.7, 'min_open_price': 17236.75, 'min_high_price': 17241.15, 'min_low_price': 17231.95, 'min_close_price': 17240.55, 'min_volume': 0}]\n",
            "Custom:[{'symbol': 'NSE:NIFTY50-INDEX', 'timestamp': 1665988681, 'fyCode': 7207, 'fyFlag': 2, 'pktLen': 48, 'ltp': 17240.8, 'open_price': 17144.8, 'high_price': 17284.3, 'low_price': 17098.55, 'close_price': 17185.7, 'min_open_price': 17241.25, 'min_high_price': 17241.25, 'min_low_price': 17240.8, 'min_close_price': 17240.8, 'min_volume': 0}]\n",
            "Custom:[{'symbol': 'NSE:NIFTY50-INDEX', 'timestamp': 1665988682, 'fyCode': 7207, 'fyFlag': 2, 'pktLen': 48, 'ltp': 17240.7, 'open_price': 17144.8, 'high_price': 17284.3, 'low_price': 17098.55, 'close_price': 17185.7, 'min_open_price': 17241.25, 'min_high_price': 17241.25, 'min_low_price': 17240.7, 'min_close_price': 17240.7, 'min_volume': 0}]\n",
            "Custom:[{'symbol': 'NSE:NIFTY50-INDEX', 'timestamp': 1665988683, 'fyCode': 7207, 'fyFlag': 2, 'pktLen': 48, 'ltp': 17240.2, 'open_price': 17144.8, 'high_price': 17284.3, 'low_price': 17098.55, 'close_price': 17185.7, 'min_open_price': 17241.25, 'min_high_price': 17241.25, 'min_low_price': 17240.2, 'min_close_price': 17240.2, 'min_volume': 0}]\n",
            "Custom:[{'symbol': 'NSE:NIFTY50-INDEX', 'timestamp': 1665988684, 'fyCode': 7207, 'fyFlag': 2, 'pktLen': 48, 'ltp': 17241.05, 'open_price': 17144.8, 'high_price': 17284.3, 'low_price': 17098.55, 'close_price': 17185.7, 'min_open_price': 17241.25, 'min_high_price': 17241.25, 'min_low_price': 17240.2, 'min_close_price': 17241.05, 'min_volume': 0}]\n",
            "Custom:[{'symbol': 'NSE:NIFTY50-INDEX', 'timestamp': 1665988685, 'fyCode': 7207, 'fyFlag': 2, 'pktLen': 48, 'ltp': 17240.55, 'open_price': 17144.8, 'high_price': 17284.3, 'low_price': 17098.55, 'close_price': 17185.7, 'min_open_price': 17241.25, 'min_high_price': 17241.25, 'min_low_price': 17240.2, 'min_close_price': 17240.55, 'min_volume': 0}]\n",
            "Custom:[{'symbol': 'NSE:NIFTY50-INDEX', 'timestamp': 1665988686, 'fyCode': 7207, 'fyFlag': 2, 'pktLen': 48, 'ltp': 17241.05, 'open_price': 17144.8, 'high_price': 17284.3, 'low_price': 17098.55, 'close_price': 17185.7, 'min_open_price': 17241.25, 'min_high_price': 17241.25, 'min_low_price': 17240.2, 'min_close_price': 17241.05, 'min_volume': 0}]\n",
            "Custom:[{'symbol': 'NSE:NIFTY50-INDEX', 'timestamp': 1665988687, 'fyCode': 7207, 'fyFlag': 2, 'pktLen': 48, 'ltp': 17241.0, 'open_price': 17144.8, 'high_price': 17284.3, 'low_price': 17098.55, 'close_price': 17185.7, 'min_open_price': 17241.25, 'min_high_price': 17241.25, 'min_low_price': 17240.2, 'min_close_price': 17241.0, 'min_volume': 0}]\n",
            "Custom:[{'symbol': 'NSE:NIFTY50-INDEX', 'timestamp': 1665988688, 'fyCode': 7207, 'fyFlag': 2, 'pktLen': 48, 'ltp': 17240.65, 'open_price': 17144.8, 'high_price': 17284.3, 'low_price': 17098.55, 'close_price': 17185.7, 'min_open_price': 17241.25, 'min_high_price': 17241.25, 'min_low_price': 17240.2, 'min_close_price': 17240.65, 'min_volume': 0}]\n",
            "Custom:[{'symbol': 'NSE:NIFTY50-INDEX', 'timestamp': 1665988689, 'fyCode': 7207, 'fyFlag': 2, 'pktLen': 48, 'ltp': 17240.55, 'open_price': 17144.8, 'high_price': 17284.3, 'low_price': 17098.55, 'close_price': 17185.7, 'min_open_price': 17241.25, 'min_high_price': 17241.25, 'min_low_price': 17240.2, 'min_close_price': 17240.55, 'min_volume': 0}]\n",
            "Custom:[{'symbol': 'NSE:NIFTY50-INDEX', 'timestamp': 1665988690, 'fyCode': 7207, 'fyFlag': 2, 'pktLen': 48, 'ltp': 17241.15, 'open_price': 17144.8, 'high_price': 17284.3, 'low_price': 17098.55, 'close_price': 17185.7, 'min_open_price': 17241.25, 'min_high_price': 17241.25, 'min_low_price': 17240.2, 'min_close_price': 17241.15, 'min_volume': 0}]\n",
            "Custom:[{'symbol': 'NSE:NIFTY50-INDEX', 'timestamp': 1665988691, 'fyCode': 7207, 'fyFlag': 2, 'pktLen': 48, 'ltp': 17240.7, 'open_price': 17144.8, 'high_price': 17284.3, 'low_price': 17098.55, 'close_price': 17185.7, 'min_open_price': 17241.25, 'min_high_price': 17241.25, 'min_low_price': 17240.2, 'min_close_price': 17240.7, 'min_volume': 0}]\n",
            "Custom:[{'symbol': 'NSE:NIFTY50-INDEX', 'timestamp': 1665988692, 'fyCode': 7207, 'fyFlag': 2, 'pktLen': 48, 'ltp': 17240.3, 'open_price': 17144.8, 'high_price': 17284.3, 'low_price': 17098.55, 'close_price': 17185.7, 'min_open_price': 17241.25, 'min_high_price': 17241.25, 'min_low_price': 17240.2, 'min_close_price': 17240.3, 'min_volume': 0}]\n",
            "Custom:[{'symbol': 'NSE:NIFTY50-INDEX', 'timestamp': 1665988693, 'fyCode': 7207, 'fyFlag': 2, 'pktLen': 48, 'ltp': 17240.1, 'open_price': 17144.8, 'high_price': 17284.3, 'low_price': 17098.55, 'close_price': 17185.7, 'min_open_price': 17241.25, 'min_high_price': 17241.25, 'min_low_price': 17240.1, 'min_close_price': 17240.1, 'min_volume': 0}]\n",
            "Custom:[{'symbol': 'NSE:NIFTY50-INDEX', 'timestamp': 1665988694, 'fyCode': 7207, 'fyFlag': 2, 'pktLen': 48, 'ltp': 17240.35, 'open_price': 17144.8, 'high_price': 17284.3, 'low_price': 17098.55, 'close_price': 17185.7, 'min_open_price': 17241.25, 'min_high_price': 17241.25, 'min_low_price': 17240.1, 'min_close_price': 17240.35, 'min_volume': 0}]\n",
            "Custom:[{'symbol': 'NSE:NIFTY50-INDEX', 'timestamp': 1665988695, 'fyCode': 7207, 'fyFlag': 2, 'pktLen': 48, 'ltp': 17240.15, 'open_price': 17144.8, 'high_price': 17284.3, 'low_price': 17098.55, 'close_price': 17185.7, 'min_open_price': 17241.25, 'min_high_price': 17241.25, 'min_low_price': 17240.1, 'min_close_price': 17240.15, 'min_volume': 0}]\n",
            "Custom:[{'symbol': 'NSE:NIFTY50-INDEX', 'timestamp': 1665988696, 'fyCode': 7207, 'fyFlag': 2, 'pktLen': 48, 'ltp': 17240.15, 'open_price': 17144.8, 'high_price': 17284.3, 'low_price': 17098.55, 'close_price': 17185.7, 'min_open_price': 17241.25, 'min_high_price': 17241.25, 'min_low_price': 17240.1, 'min_close_price': 17240.15, 'min_volume': 0}]\n",
            "Custom:[{'symbol': 'NSE:NIFTY50-INDEX', 'timestamp': 1665988697, 'fyCode': 7207, 'fyFlag': 2, 'pktLen': 48, 'ltp': 17239.35, 'open_price': 17144.8, 'high_price': 17284.3, 'low_price': 17098.55, 'close_price': 17185.7, 'min_open_price': 17241.25, 'min_high_price': 17241.25, 'min_low_price': 17239.35, 'min_close_price': 17239.35, 'min_volume': 0}]\n",
            "Custom:[{'symbol': 'NSE:NIFTY50-INDEX', 'timestamp': 1665988698, 'fyCode': 7207, 'fyFlag': 2, 'pktLen': 48, 'ltp': 17239.85, 'open_price': 17144.8, 'high_price': 17284.3, 'low_price': 17098.55, 'close_price': 17185.7, 'min_open_price': 17241.25, 'min_high_price': 17241.25, 'min_low_price': 17239.35, 'min_close_price': 17239.85, 'min_volume': 0}]\n",
            "Custom:[{'symbol': 'NSE:NIFTY50-INDEX', 'timestamp': 1665988699, 'fyCode': 7207, 'fyFlag': 2, 'pktLen': 48, 'ltp': 17240.2, 'open_price': 17144.8, 'high_price': 17284.3, 'low_price': 17098.55, 'close_price': 17185.7, 'min_open_price': 17241.25, 'min_high_price': 17241.25, 'min_low_price': 17239.35, 'min_close_price': 17240.2, 'min_volume': 0}]\n",
            "Custom:[{'symbol': 'NSE:NIFTY50-INDEX', 'timestamp': 1665988700, 'fyCode': 7207, 'fyFlag': 2, 'pktLen': 48, 'ltp': 17239.75, 'open_price': 17144.8, 'high_price': 17284.3, 'low_price': 17098.55, 'close_price': 17185.7, 'min_open_price': 17241.25, 'min_high_price': 17241.25, 'min_low_price': 17239.35, 'min_close_price': 17239.75, 'min_volume': 0}]\n",
            "Custom:[{'symbol': 'NSE:NIFTY50-INDEX', 'timestamp': 1665988701, 'fyCode': 7207, 'fyFlag': 2, 'pktLen': 48, 'ltp': 17239.6, 'open_price': 17144.8, 'high_price': 17284.3, 'low_price': 17098.55, 'close_price': 17185.7, 'min_open_price': 17241.25, 'min_high_price': 17241.25, 'min_low_price': 17239.35, 'min_close_price': 17239.6, 'min_volume': 0}]\n",
            "Custom:[{'symbol': 'NSE:NIFTY50-INDEX', 'timestamp': 1665988702, 'fyCode': 7207, 'fyFlag': 2, 'pktLen': 48, 'ltp': 17240.05, 'open_price': 17144.8, 'high_price': 17284.3, 'low_price': 17098.55, 'close_price': 17185.7, 'min_open_price': 17241.25, 'min_high_price': 17241.25, 'min_low_price': 17239.35, 'min_close_price': 17240.05, 'min_volume': 0}]\n",
            "Custom:[{'symbol': 'NSE:NIFTY50-INDEX', 'timestamp': 1665988703, 'fyCode': 7207, 'fyFlag': 2, 'pktLen': 48, 'ltp': 17240.1, 'open_price': 17144.8, 'high_price': 17284.3, 'low_price': 17098.55, 'close_price': 17185.7, 'min_open_price': 17241.25, 'min_high_price': 17241.25, 'min_low_price': 17239.35, 'min_close_price': 17240.1, 'min_volume': 0}]\n",
            "Custom:[{'symbol': 'NSE:NIFTY50-INDEX', 'timestamp': 1665988704, 'fyCode': 7207, 'fyFlag': 2, 'pktLen': 48, 'ltp': 17239.75, 'open_price': 17144.8, 'high_price': 17284.3, 'low_price': 17098.55, 'close_price': 17185.7, 'min_open_price': 17241.25, 'min_high_price': 17241.25, 'min_low_price': 17239.35, 'min_close_price': 17239.75, 'min_volume': 0}]\n",
            "Custom:[{'symbol': 'NSE:NIFTY50-INDEX', 'timestamp': 1665988705, 'fyCode': 7207, 'fyFlag': 2, 'pktLen': 48, 'ltp': 17238.95, 'open_price': 17144.8, 'high_price': 17284.3, 'low_price': 17098.55, 'close_price': 17185.7, 'min_open_price': 17241.25, 'min_high_price': 17241.25, 'min_low_price': 17238.95, 'min_close_price': 17238.95, 'min_volume': 0}]\n",
            "Custom:[{'symbol': 'NSE:NIFTY50-INDEX', 'timestamp': 1665988706, 'fyCode': 7207, 'fyFlag': 2, 'pktLen': 48, 'ltp': 17239.1, 'open_price': 17144.8, 'high_price': 17284.3, 'low_price': 17098.55, 'close_price': 17185.7, 'min_open_price': 17241.25, 'min_high_price': 17241.25, 'min_low_price': 17238.95, 'min_close_price': 17239.1, 'min_volume': 0}]\n",
            "Custom:[{'symbol': 'NSE:NIFTY50-INDEX', 'timestamp': 1665988707, 'fyCode': 7207, 'fyFlag': 2, 'pktLen': 48, 'ltp': 17239.0, 'open_price': 17144.8, 'high_price': 17284.3, 'low_price': 17098.55, 'close_price': 17185.7, 'min_open_price': 17241.25, 'min_high_price': 17241.25, 'min_low_price': 17238.95, 'min_close_price': 17239.0, 'min_volume': 0}]\n",
            "Custom:[{'symbol': 'NSE:NIFTY50-INDEX', 'timestamp': 1665988708, 'fyCode': 7207, 'fyFlag': 2, 'pktLen': 48, 'ltp': 17238.95, 'open_price': 17144.8, 'high_price': 17284.3, 'low_price': 17098.55, 'close_price': 17185.7, 'min_open_price': 17241.25, 'min_high_price': 17241.25, 'min_low_price': 17238.95, 'min_close_price': 17238.95, 'min_volume': 0}]\n",
            "Custom:[{'symbol': 'NSE:NIFTY50-INDEX', 'timestamp': 1665988709, 'fyCode': 7207, 'fyFlag': 2, 'pktLen': 48, 'ltp': 17239.1, 'open_price': 17144.8, 'high_price': 17284.3, 'low_price': 17098.55, 'close_price': 17185.7, 'min_open_price': 17241.25, 'min_high_price': 17241.25, 'min_low_price': 17238.95, 'min_close_price': 17239.1, 'min_volume': 0}]\n",
            "Custom:[{'symbol': 'NSE:NIFTY50-INDEX', 'timestamp': 1665988710, 'fyCode': 7207, 'fyFlag': 2, 'pktLen': 48, 'ltp': 17238.75, 'open_price': 17144.8, 'high_price': 17284.3, 'low_price': 17098.55, 'close_price': 17185.7, 'min_open_price': 17241.25, 'min_high_price': 17241.25, 'min_low_price': 17238.75, 'min_close_price': 17238.75, 'min_volume': 0}]\n",
            "Custom:[{'symbol': 'NSE:NIFTY50-INDEX', 'timestamp': 1665988711, 'fyCode': 7207, 'fyFlag': 2, 'pktLen': 48, 'ltp': 17238.45, 'open_price': 17144.8, 'high_price': 17284.3, 'low_price': 17098.55, 'close_price': 17185.7, 'min_open_price': 17241.25, 'min_high_price': 17241.25, 'min_low_price': 17238.45, 'min_close_price': 17238.45, 'min_volume': 0}]\n",
            "Custom:[{'symbol': 'NSE:NIFTY50-INDEX', 'timestamp': 1665988712, 'fyCode': 7207, 'fyFlag': 2, 'pktLen': 48, 'ltp': 17238.5, 'open_price': 17144.8, 'high_price': 17284.3, 'low_price': 17098.55, 'close_price': 17185.7, 'min_open_price': 17241.25, 'min_high_price': 17241.25, 'min_low_price': 17238.45, 'min_close_price': 17238.5, 'min_volume': 0}]\n",
            "Custom:[{'symbol': 'NSE:NIFTY50-INDEX', 'timestamp': 1665988713, 'fyCode': 7207, 'fyFlag': 2, 'pktLen': 48, 'ltp': 17238.65, 'open_price': 17144.8, 'high_price': 17284.3, 'low_price': 17098.55, 'close_price': 17185.7, 'min_open_price': 17241.25, 'min_high_price': 17241.25, 'min_low_price': 17238.45, 'min_close_price': 17238.65, 'min_volume': 0}]\n",
            "Custom:[{'symbol': 'NSE:NIFTY50-INDEX', 'timestamp': 1665988715, 'fyCode': 7207, 'fyFlag': 2, 'pktLen': 48, 'ltp': 17238.25, 'open_price': 17144.8, 'high_price': 17284.3, 'low_price': 17098.55, 'close_price': 17185.7, 'min_open_price': 17241.25, 'min_high_price': 17241.25, 'min_low_price': 17238.25, 'min_close_price': 17238.25, 'min_volume': 0}]\n",
            "Custom:[{'symbol': 'NSE:NIFTY50-INDEX', 'timestamp': 1665988716, 'fyCode': 7207, 'fyFlag': 2, 'pktLen': 48, 'ltp': 17238.65, 'open_price': 17144.8, 'high_price': 17284.3, 'low_price': 17098.55, 'close_price': 17185.7, 'min_open_price': 17241.25, 'min_high_price': 17241.25, 'min_low_price': 17238.25, 'min_close_price': 17238.65, 'min_volume': 0}]\n",
            "Custom:[{'symbol': 'NSE:NIFTY50-INDEX', 'timestamp': 1665988718, 'fyCode': 7207, 'fyFlag': 2, 'pktLen': 48, 'ltp': 17239.15, 'open_price': 17144.8, 'high_price': 17284.3, 'low_price': 17098.55, 'close_price': 17185.7, 'min_open_price': 17241.25, 'min_high_price': 17241.25, 'min_low_price': 17238.25, 'min_close_price': 17239.15, 'min_volume': 0}]\n",
            "Custom:[{'symbol': 'NSE:NIFTY50-INDEX', 'timestamp': 1665988719, 'fyCode': 7207, 'fyFlag': 2, 'pktLen': 48, 'ltp': 17238.25, 'open_price': 17144.8, 'high_price': 17284.3, 'low_price': 17098.55, 'close_price': 17185.7, 'min_open_price': 17241.25, 'min_high_price': 17241.25, 'min_low_price': 17238.25, 'min_close_price': 17238.25, 'min_volume': 0}]\n",
            "Custom:[{'symbol': 'NSE:NIFTY50-INDEX', 'timestamp': 1665988720, 'fyCode': 7207, 'fyFlag': 2, 'pktLen': 48, 'ltp': 17238.05, 'open_price': 17144.8, 'high_price': 17284.3, 'low_price': 17098.55, 'close_price': 17185.7, 'min_open_price': 17241.25, 'min_high_price': 17241.25, 'min_low_price': 17238.05, 'min_close_price': 17238.05, 'min_volume': 0}]\n",
            "Custom:[{'symbol': 'NSE:NIFTY50-INDEX', 'timestamp': 1665988724, 'fyCode': 7207, 'fyFlag': 2, 'pktLen': 48, 'ltp': 17238.05, 'open_price': 17144.8, 'high_price': 17284.3, 'low_price': 17098.55, 'close_price': 17185.7, 'min_open_price': 17241.25, 'min_high_price': 17241.25, 'min_low_price': 17238.05, 'min_close_price': 17238.05, 'min_volume': 0}]\n",
            "Custom:[{'symbol': 'NSE:NIFTY50-INDEX', 'timestamp': 1665988726, 'fyCode': 7207, 'fyFlag': 2, 'pktLen': 48, 'ltp': 17238.2, 'open_price': 17144.8, 'high_price': 17284.3, 'low_price': 17098.55, 'close_price': 17185.7, 'min_open_price': 17241.25, 'min_high_price': 17241.25, 'min_low_price': 17238.05, 'min_close_price': 17238.2, 'min_volume': 0}]\n",
            "Custom:[{'symbol': 'NSE:NIFTY50-INDEX', 'timestamp': 1665988728, 'fyCode': 7207, 'fyFlag': 2, 'pktLen': 48, 'ltp': 17237.95, 'open_price': 17144.8, 'high_price': 17284.3, 'low_price': 17098.55, 'close_price': 17185.7, 'min_open_price': 17241.25, 'min_high_price': 17241.25, 'min_low_price': 17237.9, 'min_close_price': 17237.95, 'min_volume': 0}]\n",
            "Custom:[{'symbol': 'NSE:NIFTY50-INDEX', 'timestamp': 1665988729, 'fyCode': 7207, 'fyFlag': 2, 'pktLen': 48, 'ltp': 17238.9, 'open_price': 17144.8, 'high_price': 17284.3, 'low_price': 17098.55, 'close_price': 17185.7, 'min_open_price': 17241.25, 'min_high_price': 17241.25, 'min_low_price': 17237.9, 'min_close_price': 17238.9, 'min_volume': 0}]\n",
            "Custom:[{'symbol': 'NSE:NIFTY50-INDEX', 'timestamp': 1665988730, 'fyCode': 7207, 'fyFlag': 2, 'pktLen': 48, 'ltp': 17238.1, 'open_price': 17144.8, 'high_price': 17284.3, 'low_price': 17098.55, 'close_price': 17185.7, 'min_open_price': 17241.25, 'min_high_price': 17241.25, 'min_low_price': 17237.9, 'min_close_price': 17238.1, 'min_volume': 0}]\n",
            "Custom:[{'symbol': 'NSE:NIFTY50-INDEX', 'timestamp': 1665988731, 'fyCode': 7207, 'fyFlag': 2, 'pktLen': 48, 'ltp': 17237.75, 'open_price': 17144.8, 'high_price': 17284.3, 'low_price': 17098.55, 'close_price': 17185.7, 'min_open_price': 17241.25, 'min_high_price': 17241.25, 'min_low_price': 17237.75, 'min_close_price': 17237.75, 'min_volume': 0}]\n",
            "Custom:[{'symbol': 'NSE:NIFTY50-INDEX', 'timestamp': 1665988732, 'fyCode': 7207, 'fyFlag': 2, 'pktLen': 48, 'ltp': 17238.0, 'open_price': 17144.8, 'high_price': 17284.3, 'low_price': 17098.55, 'close_price': 17185.7, 'min_open_price': 17241.25, 'min_high_price': 17241.25, 'min_low_price': 17237.75, 'min_close_price': 17238.0, 'min_volume': 0}]\n",
            "Custom:[{'symbol': 'NSE:NIFTY50-INDEX', 'timestamp': 1665988733, 'fyCode': 7207, 'fyFlag': 2, 'pktLen': 48, 'ltp': 17237.7, 'open_price': 17144.8, 'high_price': 17284.3, 'low_price': 17098.55, 'close_price': 17185.7, 'min_open_price': 17241.25, 'min_high_price': 17241.25, 'min_low_price': 17237.7, 'min_close_price': 17237.7, 'min_volume': 0}]\n",
            "Custom:[{'symbol': 'NSE:NIFTY50-INDEX', 'timestamp': 1665988734, 'fyCode': 7207, 'fyFlag': 2, 'pktLen': 48, 'ltp': 17236.6, 'open_price': 17144.8, 'high_price': 17284.3, 'low_price': 17098.55, 'close_price': 17185.7, 'min_open_price': 17241.25, 'min_high_price': 17241.25, 'min_low_price': 17236.6, 'min_close_price': 17236.6, 'min_volume': 0}]\n",
            "Custom:[{'symbol': 'NSE:NIFTY50-INDEX', 'timestamp': 1665988735, 'fyCode': 7207, 'fyFlag': 2, 'pktLen': 48, 'ltp': 17236.25, 'open_price': 17144.8, 'high_price': 17284.3, 'low_price': 17098.55, 'close_price': 17185.7, 'min_open_price': 17241.25, 'min_high_price': 17241.25, 'min_low_price': 17236.25, 'min_close_price': 17236.25, 'min_volume': 0}]\n",
            "Custom:[{'symbol': 'NSE:NIFTY50-INDEX', 'timestamp': 1665988736, 'fyCode': 7207, 'fyFlag': 2, 'pktLen': 48, 'ltp': 17236.25, 'open_price': 17144.8, 'high_price': 17284.3, 'low_price': 17098.55, 'close_price': 17185.7, 'min_open_price': 17241.25, 'min_high_price': 17241.25, 'min_low_price': 17236.25, 'min_close_price': 17236.25, 'min_volume': 0}]\n",
            "Custom:[{'symbol': 'NSE:NIFTY50-INDEX', 'timestamp': 1665988737, 'fyCode': 7207, 'fyFlag': 2, 'pktLen': 48, 'ltp': 17235.85, 'open_price': 17144.8, 'high_price': 17284.3, 'low_price': 17098.55, 'close_price': 17185.7, 'min_open_price': 17241.25, 'min_high_price': 17241.25, 'min_low_price': 17235.85, 'min_close_price': 17235.85, 'min_volume': 0}]\n",
            "Custom:[{'symbol': 'NSE:NIFTY50-INDEX', 'timestamp': 1665988738, 'fyCode': 7207, 'fyFlag': 2, 'pktLen': 48, 'ltp': 17236.35, 'open_price': 17144.8, 'high_price': 17284.3, 'low_price': 17098.55, 'close_price': 17185.7, 'min_open_price': 17241.25, 'min_high_price': 17241.25, 'min_low_price': 17235.85, 'min_close_price': 17236.35, 'min_volume': 0}]\n",
            "Custom:[{'symbol': 'NSE:NIFTY50-INDEX', 'timestamp': 1665988739, 'fyCode': 7207, 'fyFlag': 2, 'pktLen': 48, 'ltp': 17236.6, 'open_price': 17144.8, 'high_price': 17284.3, 'low_price': 17098.55, 'close_price': 17185.7, 'min_open_price': 17241.25, 'min_high_price': 17241.25, 'min_low_price': 17235.85, 'min_close_price': 17236.6, 'min_volume': 0}]\n",
            "Custom:[{'symbol': 'NSE:NIFTY50-INDEX', 'timestamp': 1665988740, 'fyCode': 7207, 'fyFlag': 2, 'pktLen': 48, 'ltp': 17235.85, 'open_price': 17144.8, 'high_price': 17284.3, 'low_price': 17098.55, 'close_price': 17185.7, 'min_open_price': 17235.85, 'min_high_price': 17235.85, 'min_low_price': 17235.85, 'min_close_price': 17235.85, 'min_volume': 0}]\n",
            "Custom:[{'symbol': 'NSE:NIFTY50-INDEX', 'timestamp': 1665988741, 'fyCode': 7207, 'fyFlag': 2, 'pktLen': 48, 'ltp': 17235.05, 'open_price': 17144.8, 'high_price': 17284.3, 'low_price': 17098.55, 'close_price': 17185.7, 'min_open_price': 17235.85, 'min_high_price': 17235.85, 'min_low_price': 17235.05, 'min_close_price': 17235.05, 'min_volume': 0}]\n",
            "Custom:[{'symbol': 'NSE:NIFTY50-INDEX', 'timestamp': 1665988742, 'fyCode': 7207, 'fyFlag': 2, 'pktLen': 48, 'ltp': 17234.7, 'open_price': 17144.8, 'high_price': 17284.3, 'low_price': 17098.55, 'close_price': 17185.7, 'min_open_price': 17235.85, 'min_high_price': 17235.85, 'min_low_price': 17234.7, 'min_close_price': 17234.7, 'min_volume': 0}]\n",
            "Custom:[{'symbol': 'NSE:NIFTY50-INDEX', 'timestamp': 1665988743, 'fyCode': 7207, 'fyFlag': 2, 'pktLen': 48, 'ltp': 17234.5, 'open_price': 17144.8, 'high_price': 17284.3, 'low_price': 17098.55, 'close_price': 17185.7, 'min_open_price': 17235.85, 'min_high_price': 17235.85, 'min_low_price': 17234.5, 'min_close_price': 17234.5, 'min_volume': 0}]\n",
            "Custom:[{'symbol': 'NSE:NIFTY50-INDEX', 'timestamp': 1665988744, 'fyCode': 7207, 'fyFlag': 2, 'pktLen': 48, 'ltp': 17235.35, 'open_price': 17144.8, 'high_price': 17284.3, 'low_price': 17098.55, 'close_price': 17185.7, 'min_open_price': 17235.85, 'min_high_price': 17235.85, 'min_low_price': 17234.5, 'min_close_price': 17235.35, 'min_volume': 0}]\n",
            "Custom:[{'symbol': 'NSE:NIFTY50-INDEX', 'timestamp': 1665988745, 'fyCode': 7207, 'fyFlag': 2, 'pktLen': 48, 'ltp': 17234.75, 'open_price': 17144.8, 'high_price': 17284.3, 'low_price': 17098.55, 'close_price': 17185.7, 'min_open_price': 17235.85, 'min_high_price': 17235.85, 'min_low_price': 17234.5, 'min_close_price': 17234.75, 'min_volume': 0}]\n",
            "Custom:[{'symbol': 'NSE:NIFTY50-INDEX', 'timestamp': 1665988746, 'fyCode': 7207, 'fyFlag': 2, 'pktLen': 48, 'ltp': 17234.85, 'open_price': 17144.8, 'high_price': 17284.3, 'low_price': 17098.55, 'close_price': 17185.7, 'min_open_price': 17235.85, 'min_high_price': 17235.85, 'min_low_price': 17234.5, 'min_close_price': 17234.85, 'min_volume': 0}]\n",
            "Custom:[{'symbol': 'NSE:NIFTY50-INDEX', 'timestamp': 1665988747, 'fyCode': 7207, 'fyFlag': 2, 'pktLen': 48, 'ltp': 17233.85, 'open_price': 17144.8, 'high_price': 17284.3, 'low_price': 17098.55, 'close_price': 17185.7, 'min_open_price': 17235.85, 'min_high_price': 17235.85, 'min_low_price': 17233.85, 'min_close_price': 17233.85, 'min_volume': 0}]\n",
            "Custom:[{'symbol': 'NSE:NIFTY50-INDEX', 'timestamp': 1665988748, 'fyCode': 7207, 'fyFlag': 2, 'pktLen': 48, 'ltp': 17233.55, 'open_price': 17144.8, 'high_price': 17284.3, 'low_price': 17098.55, 'close_price': 17185.7, 'min_open_price': 17235.85, 'min_high_price': 17235.85, 'min_low_price': 17233.55, 'min_close_price': 17233.55, 'min_volume': 0}]\n",
            "Custom:[{'symbol': 'NSE:NIFTY50-INDEX', 'timestamp': 1665988749, 'fyCode': 7207, 'fyFlag': 2, 'pktLen': 48, 'ltp': 17233.8, 'open_price': 17144.8, 'high_price': 17284.3, 'low_price': 17098.55, 'close_price': 17185.7, 'min_open_price': 17235.85, 'min_high_price': 17235.85, 'min_low_price': 17233.55, 'min_close_price': 17233.8, 'min_volume': 0}]\n",
            "Custom:[{'symbol': 'NSE:NIFTY50-INDEX', 'timestamp': 1665988750, 'fyCode': 7207, 'fyFlag': 2, 'pktLen': 48, 'ltp': 17233.75, 'open_price': 17144.8, 'high_price': 17284.3, 'low_price': 17098.55, 'close_price': 17185.7, 'min_open_price': 17235.85, 'min_high_price': 17235.85, 'min_low_price': 17233.55, 'min_close_price': 17233.75, 'min_volume': 0}]\n",
            "Custom:[{'symbol': 'NSE:NIFTY50-INDEX', 'timestamp': 1665988751, 'fyCode': 7207, 'fyFlag': 2, 'pktLen': 48, 'ltp': 17233.45, 'open_price': 17144.8, 'high_price': 17284.3, 'low_price': 17098.55, 'close_price': 17185.7, 'min_open_price': 17235.85, 'min_high_price': 17235.85, 'min_low_price': 17233.45, 'min_close_price': 17233.45, 'min_volume': 0}]\n",
            "Custom:[{'symbol': 'NSE:NIFTY50-INDEX', 'timestamp': 1665988752, 'fyCode': 7207, 'fyFlag': 2, 'pktLen': 48, 'ltp': 17234.45, 'open_price': 17144.8, 'high_price': 17284.3, 'low_price': 17098.55, 'close_price': 17185.7, 'min_open_price': 17235.85, 'min_high_price': 17235.85, 'min_low_price': 17233.45, 'min_close_price': 17234.45, 'min_volume': 0}]\n",
            "Custom:[{'symbol': 'NSE:NIFTY50-INDEX', 'timestamp': 1665988753, 'fyCode': 7207, 'fyFlag': 2, 'pktLen': 48, 'ltp': 17234.15, 'open_price': 17144.8, 'high_price': 17284.3, 'low_price': 17098.55, 'close_price': 17185.7, 'min_open_price': 17235.85, 'min_high_price': 17235.85, 'min_low_price': 17233.45, 'min_close_price': 17234.15, 'min_volume': 0}]\n",
            "Custom:[{'symbol': 'NSE:NIFTY50-INDEX', 'timestamp': 1665988754, 'fyCode': 7207, 'fyFlag': 2, 'pktLen': 48, 'ltp': 17235.1, 'open_price': 17144.8, 'high_price': 17284.3, 'low_price': 17098.55, 'close_price': 17185.7, 'min_open_price': 17235.85, 'min_high_price': 17235.85, 'min_low_price': 17233.45, 'min_close_price': 17235.1, 'min_volume': 0}]\n",
            "Custom:[{'symbol': 'NSE:NIFTY50-INDEX', 'timestamp': 1665988755, 'fyCode': 7207, 'fyFlag': 2, 'pktLen': 48, 'ltp': 17234.15, 'open_price': 17144.8, 'high_price': 17284.3, 'low_price': 17098.55, 'close_price': 17185.7, 'min_open_price': 17235.85, 'min_high_price': 17235.85, 'min_low_price': 17233.45, 'min_close_price': 17234.15, 'min_volume': 0}]\n",
            "Custom:[{'symbol': 'NSE:NIFTY50-INDEX', 'timestamp': 1665988756, 'fyCode': 7207, 'fyFlag': 2, 'pktLen': 48, 'ltp': 17233.95, 'open_price': 17144.8, 'high_price': 17284.3, 'low_price': 17098.55, 'close_price': 17185.7, 'min_open_price': 17235.85, 'min_high_price': 17235.85, 'min_low_price': 17233.45, 'min_close_price': 17233.95, 'min_volume': 0}]\n",
            "Custom:[{'symbol': 'NSE:NIFTY50-INDEX', 'timestamp': 1665988758, 'fyCode': 7207, 'fyFlag': 2, 'pktLen': 48, 'ltp': 17234.95, 'open_price': 17144.8, 'high_price': 17284.3, 'low_price': 17098.55, 'close_price': 17185.7, 'min_open_price': 17235.85, 'min_high_price': 17235.85, 'min_low_price': 17233.45, 'min_close_price': 17234.95, 'min_volume': 0}]\n",
            "Custom:[{'symbol': 'NSE:NIFTY50-INDEX', 'timestamp': 1665988759, 'fyCode': 7207, 'fyFlag': 2, 'pktLen': 48, 'ltp': 17236.1, 'open_price': 17144.8, 'high_price': 17284.3, 'low_price': 17098.55, 'close_price': 17185.7, 'min_open_price': 17235.85, 'min_high_price': 17236.1, 'min_low_price': 17233.45, 'min_close_price': 17236.1, 'min_volume': 0}]\n",
            "Custom:[{'symbol': 'NSE:NIFTY50-INDEX', 'timestamp': 1665988761, 'fyCode': 7207, 'fyFlag': 2, 'pktLen': 48, 'ltp': 17235.6, 'open_price': 17144.8, 'high_price': 17284.3, 'low_price': 17098.55, 'close_price': 17185.7, 'min_open_price': 17235.85, 'min_high_price': 17236.1, 'min_low_price': 17233.45, 'min_close_price': 17235.6, 'min_volume': 0}]\n",
            "Custom:[{'symbol': 'NSE:NIFTY50-INDEX', 'timestamp': 1665988762, 'fyCode': 7207, 'fyFlag': 2, 'pktLen': 48, 'ltp': 17235.15, 'open_price': 17144.8, 'high_price': 17284.3, 'low_price': 17098.55, 'close_price': 17185.7, 'min_open_price': 17235.85, 'min_high_price': 17236.1, 'min_low_price': 17233.45, 'min_close_price': 17235.15, 'min_volume': 0}]\n",
            "Custom:[{'symbol': 'NSE:NIFTY50-INDEX', 'timestamp': 1665988763, 'fyCode': 7207, 'fyFlag': 2, 'pktLen': 48, 'ltp': 17235.35, 'open_price': 17144.8, 'high_price': 17284.3, 'low_price': 17098.55, 'close_price': 17185.7, 'min_open_price': 17235.85, 'min_high_price': 17236.1, 'min_low_price': 17233.45, 'min_close_price': 17235.35, 'min_volume': 0}]\n",
            "Custom:[{'symbol': 'NSE:NIFTY50-INDEX', 'timestamp': 1665988764, 'fyCode': 7207, 'fyFlag': 2, 'pktLen': 48, 'ltp': 17235.05, 'open_price': 17144.8, 'high_price': 17284.3, 'low_price': 17098.55, 'close_price': 17185.7, 'min_open_price': 17235.85, 'min_high_price': 17236.1, 'min_low_price': 17233.45, 'min_close_price': 17235.05, 'min_volume': 0}]\n",
            "Custom:[{'symbol': 'NSE:NIFTY50-INDEX', 'timestamp': 1665988766, 'fyCode': 7207, 'fyFlag': 2, 'pktLen': 48, 'ltp': 17235.0, 'open_price': 17144.8, 'high_price': 17284.3, 'low_price': 17098.55, 'close_price': 17185.7, 'min_open_price': 17235.85, 'min_high_price': 17236.1, 'min_low_price': 17233.45, 'min_close_price': 17235.0, 'min_volume': 0}]\n",
            "Custom:[{'symbol': 'NSE:NIFTY50-INDEX', 'timestamp': 1665988767, 'fyCode': 7207, 'fyFlag': 2, 'pktLen': 48, 'ltp': 17234.5, 'open_price': 17144.8, 'high_price': 17284.3, 'low_price': 17098.55, 'close_price': 17185.7, 'min_open_price': 17235.85, 'min_high_price': 17236.1, 'min_low_price': 17233.45, 'min_close_price': 17234.5, 'min_volume': 0}]\n",
            "Custom:[{'symbol': 'NSE:NIFTY50-INDEX', 'timestamp': 1665988768, 'fyCode': 7207, 'fyFlag': 2, 'pktLen': 48, 'ltp': 17234.5, 'open_price': 17144.8, 'high_price': 17284.3, 'low_price': 17098.55, 'close_price': 17185.7, 'min_open_price': 17235.85, 'min_high_price': 17236.1, 'min_low_price': 17233.45, 'min_close_price': 17234.5, 'min_volume': 0}]\n",
            "Custom:[{'symbol': 'NSE:NIFTY50-INDEX', 'timestamp': 1665988770, 'fyCode': 7207, 'fyFlag': 2, 'pktLen': 48, 'ltp': 17234.1, 'open_price': 17144.8, 'high_price': 17284.3, 'low_price': 17098.55, 'close_price': 17185.7, 'min_open_price': 17235.85, 'min_high_price': 17236.1, 'min_low_price': 17233.45, 'min_close_price': 17234.1, 'min_volume': 0}]\n",
            "Custom:[{'symbol': 'NSE:NIFTY50-INDEX', 'timestamp': 1665988772, 'fyCode': 7207, 'fyFlag': 2, 'pktLen': 48, 'ltp': 17233.75, 'open_price': 17144.8, 'high_price': 17284.3, 'low_price': 17098.55, 'close_price': 17185.7, 'min_open_price': 17235.85, 'min_high_price': 17236.1, 'min_low_price': 17233.45, 'min_close_price': 17233.75, 'min_volume': 0}]\n",
            "Custom:[{'symbol': 'NSE:NIFTY50-INDEX', 'timestamp': 1665988773, 'fyCode': 7207, 'fyFlag': 2, 'pktLen': 48, 'ltp': 17233.95, 'open_price': 17144.8, 'high_price': 17284.3, 'low_price': 17098.55, 'close_price': 17185.7, 'min_open_price': 17235.85, 'min_high_price': 17236.1, 'min_low_price': 17233.45, 'min_close_price': 17233.95, 'min_volume': 0}]\n",
            "Custom:[{'symbol': 'NSE:NIFTY50-INDEX', 'timestamp': 1665988774, 'fyCode': 7207, 'fyFlag': 2, 'pktLen': 48, 'ltp': 17234.2, 'open_price': 17144.8, 'high_price': 17284.3, 'low_price': 17098.55, 'close_price': 17185.7, 'min_open_price': 17235.85, 'min_high_price': 17236.1, 'min_low_price': 17233.45, 'min_close_price': 17234.2, 'min_volume': 0}]\n"
          ]
        },
        {
          "output_type": "error",
          "ename": "KeyboardInterrupt",
          "evalue": "ignored",
          "traceback": [
            "\u001b[0;31m---------------------------------------------------------------------------\u001b[0m",
            "\u001b[0;31mKeyboardInterrupt\u001b[0m                         Traceback (most recent call last)",
            "\u001b[0;32m<ipython-input-9-854b32163a6a>\u001b[0m in \u001b[0;36m<module>\u001b[0;34m\u001b[0m\n\u001b[1;32m     19\u001b[0m \u001b[0mfyersSocket\u001b[0m \u001b[0;34m=\u001b[0m \u001b[0mws\u001b[0m\u001b[0;34m.\u001b[0m\u001b[0mFyersSocket\u001b[0m\u001b[0;34m(\u001b[0m\u001b[0maccess_token\u001b[0m\u001b[0;34m=\u001b[0m\u001b[0mws_access_token\u001b[0m\u001b[0;34m,\u001b[0m\u001b[0mrun_background\u001b[0m\u001b[0;34m=\u001b[0m\u001b[0;32mFalse\u001b[0m\u001b[0;34m,\u001b[0m\u001b[0mlog_path\u001b[0m\u001b[0;34m=\u001b[0m\u001b[0;34m\"\"\u001b[0m\u001b[0;34m)\u001b[0m\u001b[0;34m\u001b[0m\u001b[0;34m\u001b[0m\u001b[0m\n\u001b[1;32m     20\u001b[0m \u001b[0mfyersSocket\u001b[0m\u001b[0;34m.\u001b[0m\u001b[0mwebsocket_data\u001b[0m \u001b[0;34m=\u001b[0m \u001b[0mcustom_message\u001b[0m\u001b[0;34m\u001b[0m\u001b[0;34m\u001b[0m\u001b[0m\n\u001b[0;32m---> 21\u001b[0;31m \u001b[0mfyersSocket\u001b[0m\u001b[0;34m.\u001b[0m\u001b[0msubscribe\u001b[0m\u001b[0;34m(\u001b[0m\u001b[0msymbol\u001b[0m\u001b[0;34m=\u001b[0m\u001b[0msymbol\u001b[0m\u001b[0;34m,\u001b[0m \u001b[0mdata_type\u001b[0m\u001b[0;34m=\u001b[0m\u001b[0mdata_type\u001b[0m\u001b[0;34m)\u001b[0m\u001b[0;34m\u001b[0m\u001b[0;34m\u001b[0m\u001b[0m\n\u001b[0m\u001b[1;32m     22\u001b[0m \u001b[0;34m\u001b[0m\u001b[0m\n\u001b[1;32m     23\u001b[0m \u001b[0mfyersSocket\u001b[0m\u001b[0;34m.\u001b[0m\u001b[0mkeep_running\u001b[0m\u001b[0;34m(\u001b[0m\u001b[0;34m)\u001b[0m\u001b[0;34m\u001b[0m\u001b[0;34m\u001b[0m\u001b[0m\n",
            "\u001b[0;32m/usr/local/lib/python3.7/dist-packages/fyers_api/Websocket/ws.py\u001b[0m in \u001b[0;36msubscribe\u001b[0;34m(self, symbol, data_type)\u001b[0m\n\u001b[1;32m    103\u001b[0m                                 \u001b[0mself\u001b[0m\u001b[0;34m.\u001b[0m\u001b[0m__ws_object\u001b[0m\u001b[0;34m.\u001b[0m\u001b[0msend\u001b[0m\u001b[0;34m(\u001b[0m\u001b[0mget_symbol_data\u001b[0m\u001b[0;34m)\u001b[0m\u001b[0;34m\u001b[0m\u001b[0;34m\u001b[0m\u001b[0m\n\u001b[1;32m    104\u001b[0m                                 \u001b[0;32mif\u001b[0m \u001b[0mself\u001b[0m\u001b[0;34m.\u001b[0m\u001b[0mrun_background\u001b[0m \u001b[0;32mis\u001b[0m \u001b[0;32mFalse\u001b[0m\u001b[0;34m:\u001b[0m\u001b[0;34m\u001b[0m\u001b[0;34m\u001b[0m\u001b[0m\n\u001b[0;32m--> 105\u001b[0;31m                                         \u001b[0mself\u001b[0m\u001b[0;34m.\u001b[0m\u001b[0mt\u001b[0m\u001b[0;34m.\u001b[0m\u001b[0mjoin\u001b[0m\u001b[0;34m(\u001b[0m\u001b[0;34m)\u001b[0m\u001b[0;34m\u001b[0m\u001b[0;34m\u001b[0m\u001b[0m\n\u001b[0m\u001b[1;32m    106\u001b[0m \u001b[0;34m\u001b[0m\u001b[0m\n\u001b[1;32m    107\u001b[0m         \u001b[0;32mdef\u001b[0m \u001b[0munsubscribe\u001b[0m\u001b[0;34m(\u001b[0m\u001b[0mself\u001b[0m\u001b[0;34m,\u001b[0m\u001b[0msymbol\u001b[0m\u001b[0;34m)\u001b[0m\u001b[0;34m:\u001b[0m\u001b[0;34m\u001b[0m\u001b[0;34m\u001b[0m\u001b[0m\n",
            "\u001b[0;32m/usr/lib/python3.7/threading.py\u001b[0m in \u001b[0;36mjoin\u001b[0;34m(self, timeout)\u001b[0m\n\u001b[1;32m   1042\u001b[0m \u001b[0;34m\u001b[0m\u001b[0m\n\u001b[1;32m   1043\u001b[0m         \u001b[0;32mif\u001b[0m \u001b[0mtimeout\u001b[0m \u001b[0;32mis\u001b[0m \u001b[0;32mNone\u001b[0m\u001b[0;34m:\u001b[0m\u001b[0;34m\u001b[0m\u001b[0;34m\u001b[0m\u001b[0m\n\u001b[0;32m-> 1044\u001b[0;31m             \u001b[0mself\u001b[0m\u001b[0;34m.\u001b[0m\u001b[0m_wait_for_tstate_lock\u001b[0m\u001b[0;34m(\u001b[0m\u001b[0;34m)\u001b[0m\u001b[0;34m\u001b[0m\u001b[0;34m\u001b[0m\u001b[0m\n\u001b[0m\u001b[1;32m   1045\u001b[0m         \u001b[0;32melse\u001b[0m\u001b[0;34m:\u001b[0m\u001b[0;34m\u001b[0m\u001b[0;34m\u001b[0m\u001b[0m\n\u001b[1;32m   1046\u001b[0m             \u001b[0;31m# the behavior of a negative timeout isn't documented, but\u001b[0m\u001b[0;34m\u001b[0m\u001b[0;34m\u001b[0m\u001b[0;34m\u001b[0m\u001b[0m\n",
            "\u001b[0;32m/usr/lib/python3.7/threading.py\u001b[0m in \u001b[0;36m_wait_for_tstate_lock\u001b[0;34m(self, block, timeout)\u001b[0m\n\u001b[1;32m   1058\u001b[0m         \u001b[0;32mif\u001b[0m \u001b[0mlock\u001b[0m \u001b[0;32mis\u001b[0m \u001b[0;32mNone\u001b[0m\u001b[0;34m:\u001b[0m  \u001b[0;31m# already determined that the C code is done\u001b[0m\u001b[0;34m\u001b[0m\u001b[0;34m\u001b[0m\u001b[0m\n\u001b[1;32m   1059\u001b[0m             \u001b[0;32massert\u001b[0m \u001b[0mself\u001b[0m\u001b[0;34m.\u001b[0m\u001b[0m_is_stopped\u001b[0m\u001b[0;34m\u001b[0m\u001b[0;34m\u001b[0m\u001b[0m\n\u001b[0;32m-> 1060\u001b[0;31m         \u001b[0;32melif\u001b[0m \u001b[0mlock\u001b[0m\u001b[0;34m.\u001b[0m\u001b[0macquire\u001b[0m\u001b[0;34m(\u001b[0m\u001b[0mblock\u001b[0m\u001b[0;34m,\u001b[0m \u001b[0mtimeout\u001b[0m\u001b[0;34m)\u001b[0m\u001b[0;34m:\u001b[0m\u001b[0;34m\u001b[0m\u001b[0;34m\u001b[0m\u001b[0m\n\u001b[0m\u001b[1;32m   1061\u001b[0m             \u001b[0mlock\u001b[0m\u001b[0;34m.\u001b[0m\u001b[0mrelease\u001b[0m\u001b[0;34m(\u001b[0m\u001b[0;34m)\u001b[0m\u001b[0;34m\u001b[0m\u001b[0;34m\u001b[0m\u001b[0m\n\u001b[1;32m   1062\u001b[0m             \u001b[0mself\u001b[0m\u001b[0;34m.\u001b[0m\u001b[0m_stop\u001b[0m\u001b[0;34m(\u001b[0m\u001b[0;34m)\u001b[0m\u001b[0;34m\u001b[0m\u001b[0;34m\u001b[0m\u001b[0m\n",
            "\u001b[0;31mKeyboardInterrupt\u001b[0m: "
          ]
        }
      ]
    }
  ]
}