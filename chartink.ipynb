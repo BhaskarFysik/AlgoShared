{
  "nbformat": 4,
  "nbformat_minor": 0,
  "metadata": {
    "colab": {
      "provenance": [],
      "toc_visible": true,
      "authorship_tag": "ABX9TyP6s1p7dIeHb8fUZjsNpyEh",
      "include_colab_link": true
    },
    "kernelspec": {
      "name": "python3",
      "display_name": "Python 3"
    },
    "language_info": {
      "name": "python"
    }
  },
  "cells": [
    {
      "cell_type": "markdown",
      "metadata": {
        "id": "view-in-github",
        "colab_type": "text"
      },
      "source": [
        "<a href=\"https://colab.research.google.com/github/BhaskarFysik/AlgoShared/blob/main/chartink.ipynb\" target=\"_parent\"><img src=\"https://colab.research.google.com/assets/colab-badge.svg\" alt=\"Open In Colab\"/></a>"
      ]
    },
    {
      "cell_type": "code",
      "execution_count": null,
      "metadata": {
        "colab": {
          "base_uri": "https://localhost:8080/"
        },
        "id": "uKspb7giLDYq",
        "outputId": "088123f8-1996-430d-c0d7-6df3431c06f9"
      },
      "outputs": [
        {
          "output_type": "stream",
          "name": "stdout",
          "text": [
            "Looking in indexes: https://pypi.org/simple, https://us-python.pkg.dev/colab-wheels/public/simple/\n",
            "Requirement already satisfied: pandas in /usr/local/lib/python3.7/dist-packages (1.3.5)\n",
            "Requirement already satisfied: pytz>=2017.3 in /usr/local/lib/python3.7/dist-packages (from pandas) (2022.5)\n",
            "Requirement already satisfied: numpy>=1.17.3 in /usr/local/lib/python3.7/dist-packages (from pandas) (1.21.6)\n",
            "Requirement already satisfied: python-dateutil>=2.7.3 in /usr/local/lib/python3.7/dist-packages (from pandas) (2.8.2)\n",
            "Requirement already satisfied: six>=1.5 in /usr/local/lib/python3.7/dist-packages (from python-dateutil>=2.7.3->pandas) (1.15.0)\n"
          ]
        }
      ],
      "source": [
        "pip install pandas"
      ]
    },
    {
      "cell_type": "code",
      "source": [
        "pip install requests"
      ],
      "metadata": {
        "colab": {
          "base_uri": "https://localhost:8080/"
        },
        "id": "wL1gWzOeLRDS",
        "outputId": "883c4c24-57ce-43d7-85a9-20b0c0da003b"
      },
      "execution_count": null,
      "outputs": [
        {
          "output_type": "stream",
          "name": "stdout",
          "text": [
            "Looking in indexes: https://pypi.org/simple, https://us-python.pkg.dev/colab-wheels/public/simple/\n",
            "Requirement already satisfied: requests in /usr/local/lib/python3.7/dist-packages (2.23.0)\n",
            "Requirement already satisfied: urllib3!=1.25.0,!=1.25.1,<1.26,>=1.21.1 in /usr/local/lib/python3.7/dist-packages (from requests) (1.24.3)\n",
            "Requirement already satisfied: certifi>=2017.4.17 in /usr/local/lib/python3.7/dist-packages (from requests) (2022.9.24)\n",
            "Requirement already satisfied: chardet<4,>=3.0.2 in /usr/local/lib/python3.7/dist-packages (from requests) (3.0.4)\n",
            "Requirement already satisfied: idna<3,>=2.5 in /usr/local/lib/python3.7/dist-packages (from requests) (2.10)\n"
          ]
        }
      ]
    },
    {
      "cell_type": "code",
      "source": [
        "pip install bs4"
      ],
      "metadata": {
        "colab": {
          "base_uri": "https://localhost:8080/"
        },
        "id": "nkIli5dkLU7m",
        "outputId": "e2e48350-1071-4ae4-a71b-c7b87fa03e31"
      },
      "execution_count": null,
      "outputs": [
        {
          "output_type": "stream",
          "name": "stdout",
          "text": [
            "Looking in indexes: https://pypi.org/simple, https://us-python.pkg.dev/colab-wheels/public/simple/\n",
            "Requirement already satisfied: bs4 in /usr/local/lib/python3.7/dist-packages (0.0.1)\n",
            "Requirement already satisfied: beautifulsoup4 in /usr/local/lib/python3.7/dist-packages (from bs4) (4.6.3)\n"
          ]
        }
      ]
    },
    {
      "cell_type": "code",
      "source": [
        "import requests\n",
        "from bs4 import BeautifulSoup\n",
        "import pandas as pd\n",
        "\n",
        "Charting_Link = \"https://chartink.com/screener/\"\n",
        "Charting_url = 'https://chartink.com/screener/process'\n",
        "\n",
        "#You need to copy paste condition in below mentioned Condition variable\n",
        "\n",
        "Condition = \"( {57960} ( [0] 15 minute close > [-1] 15 minute max ( 20 , [0] 15 minute close ) and [0] 15 minute volume > [0] 15 minute sma ( volume,20 ) ) ) \"\n",
        "#Custom:[{'symbol': 'NSE:NIFTY50-INDEX', 'timestamp': 166737763 \"\n",
        "def GetDataFromChartink(payload):\n",
        "    payload = {'scan_clause': payload}\n",
        "    \n",
        "    with requests.Session() as s:\n",
        "        r = s.get(Charting_Link)\n",
        "        soup = BeautifulSoup(r.text, \"html.parser\")\n",
        "        csrf = soup.select_one(\"[name='csrf-token']\")['content']\n",
        "        s.headers['x-csrf-token'] = csrf\n",
        "        r = s.post(Charting_url, data=payload)\n",
        "\n",
        "        df = pd.DataFrame()\n",
        "        for item in r.json()['data']:\n",
        "            df = df.append(item, ignore_index=True)\n",
        "    return df\n",
        "\n",
        "data = GetDataFromChartink(Condition)\n",
        "\n",
        "data = data.sort_values(by='per_chg', ascending=False)\n",
        "\n",
        "print(data)\n",
        "\n",
        "data.to_csv(\"Chartink_result.csv\")"
      ],
      "metadata": {
        "colab": {
          "base_uri": "https://localhost:8080/"
        },
        "id": "M29dsduFLI4i",
        "outputId": "aafbd0ea-d45d-423f-8202-52ef618add18"
      },
      "execution_count": null,
      "outputs": [
        {
          "output_type": "stream",
          "name": "stdout",
          "text": [
            "    sr nsecode                   name bsecode  per_chg   close    volume\n",
            "0  1.0  CAMPUS  Campus Activewear Ltd  543523     0.02  575.65  279967.0\n"
          ]
        }
      ]
    },
    {
      "cell_type": "code",
      "source": [],
      "metadata": {
        "id": "F2leHYlhL1Pz"
      },
      "execution_count": null,
      "outputs": []
    }
  ]
}