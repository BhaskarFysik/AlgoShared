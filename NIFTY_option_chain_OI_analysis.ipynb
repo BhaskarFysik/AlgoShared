{
  "cells": [
    {
      "cell_type": "markdown",
      "metadata": {
        "id": "view-in-github",
        "colab_type": "text"
      },
      "source": [
        "<a href=\"https://colab.research.google.com/github/BhaskarFysik/AlgoShared/blob/main/NIFTY_option_chain_OI_analysis.ipynb\" target=\"_parent\"><img src=\"https://colab.research.google.com/assets/colab-badge.svg\" alt=\"Open In Colab\"/></a>"
      ]
    },
    {
      "cell_type": "code",
      "execution_count": null,
      "metadata": {
        "id": "kE1xI50PUtKu",
        "outputId": "b710936c-647c-4f8b-a214-4242cd50ed08",
        "colab": {
          "base_uri": "https://localhost:8080/"
        }
      },
      "outputs": [
        {
          "output_type": "stream",
          "name": "stdout",
          "text": [
            "Looking in indexes: https://pypi.org/simple, https://us-python.pkg.dev/colab-wheels/public/simple/\n",
            "Requirement already satisfied: pandas in /usr/local/lib/python3.7/dist-packages (1.3.5)\n",
            "Requirement already satisfied: pytz>=2017.3 in /usr/local/lib/python3.7/dist-packages (from pandas) (2022.6)\n",
            "Requirement already satisfied: numpy>=1.17.3 in /usr/local/lib/python3.7/dist-packages (from pandas) (1.21.6)\n",
            "Requirement already satisfied: python-dateutil>=2.7.3 in /usr/local/lib/python3.7/dist-packages (from pandas) (2.8.2)\n",
            "Requirement already satisfied: six>=1.5 in /usr/local/lib/python3.7/dist-packages (from python-dateutil>=2.7.3->pandas) (1.15.0)\n"
          ]
        }
      ],
      "source": [
        "pip install pandas"
      ]
    },
    {
      "cell_type": "code",
      "source": [
        "pip install requests"
      ],
      "metadata": {
        "id": "53VlOtlemHLX",
        "outputId": "2ee63e27-43d8-4c59-d0a4-20b5f8df2ca9",
        "colab": {
          "base_uri": "https://localhost:8080/"
        }
      },
      "execution_count": null,
      "outputs": [
        {
          "output_type": "stream",
          "name": "stdout",
          "text": [
            "Looking in indexes: https://pypi.org/simple, https://us-python.pkg.dev/colab-wheels/public/simple/\n",
            "Requirement already satisfied: requests in /usr/local/lib/python3.7/dist-packages (2.23.0)\n",
            "Requirement already satisfied: idna<3,>=2.5 in /usr/local/lib/python3.7/dist-packages (from requests) (2.10)\n",
            "Requirement already satisfied: chardet<4,>=3.0.2 in /usr/local/lib/python3.7/dist-packages (from requests) (3.0.4)\n",
            "Requirement already satisfied: urllib3!=1.25.0,!=1.25.1,<1.26,>=1.21.1 in /usr/local/lib/python3.7/dist-packages (from requests) (1.24.3)\n",
            "Requirement already satisfied: certifi>=2017.4.17 in /usr/local/lib/python3.7/dist-packages (from requests) (2022.9.24)\n"
          ]
        }
      ]
    },
    {
      "cell_type": "code",
      "source": [
        "pip install matplotlib"
      ],
      "metadata": {
        "id": "xapXyilwmPUy",
        "outputId": "7ed52caa-4a28-466c-9c06-e1c053efe5b6",
        "colab": {
          "base_uri": "https://localhost:8080/"
        }
      },
      "execution_count": null,
      "outputs": [
        {
          "output_type": "stream",
          "name": "stdout",
          "text": [
            "Looking in indexes: https://pypi.org/simple, https://us-python.pkg.dev/colab-wheels/public/simple/\n",
            "Requirement already satisfied: matplotlib in /usr/local/lib/python3.7/dist-packages (3.2.2)\n",
            "Requirement already satisfied: kiwisolver>=1.0.1 in /usr/local/lib/python3.7/dist-packages (from matplotlib) (1.4.4)\n",
            "Requirement already satisfied: numpy>=1.11 in /usr/local/lib/python3.7/dist-packages (from matplotlib) (1.21.6)\n",
            "Requirement already satisfied: pyparsing!=2.0.4,!=2.1.2,!=2.1.6,>=2.0.1 in /usr/local/lib/python3.7/dist-packages (from matplotlib) (3.0.9)\n",
            "Requirement already satisfied: cycler>=0.10 in /usr/local/lib/python3.7/dist-packages (from matplotlib) (0.11.0)\n",
            "Requirement already satisfied: python-dateutil>=2.1 in /usr/local/lib/python3.7/dist-packages (from matplotlib) (2.8.2)\n",
            "Requirement already satisfied: typing-extensions in /usr/local/lib/python3.7/dist-packages (from kiwisolver>=1.0.1->matplotlib) (4.1.1)\n",
            "Requirement already satisfied: six>=1.5 in /usr/local/lib/python3.7/dist-packages (from python-dateutil>=2.1->matplotlib) (1.15.0)\n"
          ]
        }
      ]
    },
    {
      "cell_type": "code",
      "source": [
        "pip install pytz"
      ],
      "metadata": {
        "colab": {
          "base_uri": "https://localhost:8080/"
        },
        "id": "JHxeoprltTy0",
        "outputId": "6ebb379a-872d-4f62-c0ed-ecd4652dbf8d"
      },
      "execution_count": null,
      "outputs": [
        {
          "output_type": "stream",
          "name": "stdout",
          "text": [
            "Looking in indexes: https://pypi.org/simple, https://us-python.pkg.dev/colab-wheels/public/simple/\n",
            "Requirement already satisfied: pytz in /usr/local/lib/python3.7/dist-packages (2022.6)\n"
          ]
        }
      ]
    },
    {
      "cell_type": "code",
      "execution_count": null,
      "metadata": {
        "id": "hbxuSferVCLy",
        "outputId": "b33ebc5c-46ed-49cf-d3e4-1c43d0d8bc82",
        "colab": {
          "base_uri": "https://localhost:8080/",
          "height": 1000
        }
      },
      "outputs": [
        {
          "output_type": "stream",
          "name": "stdout",
          "text": [
            "      CE_OI  CE_CHNG_IN_OI  CE_VOLUME  CE_IV  CE_LTP  CE_CHNG  CE_BID_QTY  \\\n",
            "118       0              0          0   0.00    0.00     0.00        1800   \n",
            "124       0              0          0   0.00    0.00     0.00        1800   \n",
            "144       0              0          0   0.00    0.00     0.00         250   \n",
            "152       0              0          0   0.00    0.00     0.00        1800   \n",
            "154       0              0          0   0.00    0.00     0.00        1800   \n",
            "...     ...            ...        ...    ...     ...      ...         ...   \n",
            "1012   1215            452       3095  31.18    0.65    -0.05        3500   \n",
            "1029   7894           2703      18689  31.87    0.75    -0.05        4000   \n",
            "1038    706             34        823  33.52    0.70    -0.10        1700   \n",
            "1045  26929          -1582      33679  33.99    0.70     0.00       24500   \n",
            "1048   6218            -19       6941  34.37    0.55    -0.10       35250   \n",
            "\n",
            "      CE_BID_PRICE  CE_ASK_PRICE  CE_ASK_QTY  ...  PE_BID_QTY  PE_BID_PRICE  \\\n",
            "118        3383.55       3466.70        1500  ...        5450          0.35   \n",
            "124        3336.55       3489.50        1500  ...        2650          0.35   \n",
            "144        3290.85       3405.80        1500  ...       64300          0.30   \n",
            "152        3236.95       3392.50        1500  ...        1800          0.35   \n",
            "154        3188.55       3339.90        1500  ...        4850          0.35   \n",
            "...            ...           ...         ...  ...         ...           ...   \n",
            "1012          0.65          0.70        1550  ...         150       1408.25   \n",
            "1029          0.65          0.75       16600  ...         150       1458.95   \n",
            "1038          0.70          0.80        1000  ...        1500       1485.70   \n",
            "1045          0.65          0.70       14050  ...        1500       1539.55   \n",
            "1048          0.55          0.60         650  ...        1500       1574.45   \n",
            "\n",
            "      PE_ASK_PRICE  PE_ASK_QTY  PE_CHNG   PE_LTP  PE_IV  PE_VOLUME  \\\n",
            "118           0.50        4200    -0.25     0.50  77.13       1863   \n",
            "124           0.50        1550    -0.50     0.35  73.69        212   \n",
            "144           0.35       39600    -0.45     0.35  71.65      10064   \n",
            "152           1.10         200   -11.60     0.50  73.69         33   \n",
            "154           0.70         200    -0.40     0.35  70.35        173   \n",
            "...            ...         ...      ...      ...    ...        ...   \n",
            "1012       1448.20         100  -412.35  1405.75   0.00          4   \n",
            "1029       1496.85         150     0.00     0.00   0.00          0   \n",
            "1038       1560.95        1800     0.00     0.00   0.00          0   \n",
            "1045       1607.25        3600     0.00     0.00   0.00          0   \n",
            "1048       1659.95        1800     0.00     0.00   0.00          0   \n",
            "\n",
            "      PE_CHNG_IN_OI  PE_OI  \n",
            "118             317   1652  \n",
            "124              37    109  \n",
            "144           -2439   6709  \n",
            "152              20     20  \n",
            "154              28     30  \n",
            "...             ...    ...  \n",
            "1012              2      2  \n",
            "1029              0      0  \n",
            "1038              0      0  \n",
            "1045              0      0  \n",
            "1048              0      0  \n",
            "\n",
            "[102 rows x 21 columns]\n"
          ]
        },
        {
          "output_type": "execute_result",
          "data": {
            "text/plain": [
              "'while True:\\n    \\n    Option_chain = GetOptionChain(scripname, ExpiryDate)\\n    ce_oi_sum=Option_chain[\\'CE_OI\\'].sum()\\n    pe_oi_sum = Option_chain[\\'PE_OI\\'].sum()\\n    pcr=(pe_oi_sum/ce_oi_sum)\\n    pcr=round(pcr,4)\\n    ce_oi_sum=str(ce_oi_sum)\\n    pe_oi_sum=str(pe_oi_sum)\\n    pcr=str(pcr)\\n    date_time=datetime.datetime.now()\\n    current_time=date_time.strftime(\"%H:%M:%S\")\\n    print(current_time, \"Total-CE-OI=\"+ce_oi_sum,   \"Total-PE-OI=\"+pe_oi_sum,   \"PCR=\"+pcr)\\n    #Option_chain.to_csv(scripname + \".csv\", index=False)\\n    time.sleep(10) '"
            ],
            "application/vnd.google.colaboratory.intrinsic+json": {
              "type": "string"
            }
          },
          "metadata": {},
          "execution_count": 5
        }
      ],
      "source": [
        "import requests\n",
        "import pandas as pd\n",
        "import time\n",
        "import datetime\n",
        "\n",
        "\n",
        "sesi=requests.Session()\n",
        "headers={}\n",
        "headers['user-agent']='Mozilla/5.0 (Windows NT 10.0; Win64; x64) AppleWebKit/537.36 (KHTML, like Gecko) Chrome/90.0.4430.212 Safari/537.36'\n",
        "a=sesi.get(\"https://www.nseindia.com/\",headers=headers)\n",
        "\n",
        "indices = ['BANKNIFTY','FINNIFTY','NIFTY']\n",
        "\n",
        "def FetchOptionChainfromNSE (scrip):\n",
        "    \n",
        "    if scrip in indices:\n",
        "        url=f\"https://www.nseindia.com/api/option-chain-indices?symbol={scrip}\"\n",
        "    else:\n",
        "        symbol4NSE = scrip.replace('&', '%26')\n",
        "        url=f\"https://www.nseindia.com/api/option-chain-equities?symbol={symbol4NSE}\"\n",
        "    \n",
        "    a=sesi.get(url,headers=headers)\n",
        "    return a.json()['records']\n",
        "    \n",
        "def GetOptionChain(name, expiry):\n",
        "    option_chain = pd.DataFrame()\n",
        "    option_chain_record = FetchOptionChainfromNSE (name)\n",
        "\n",
        "    #print(\"Market price of\",name,\"=\",option_chain_record['underlyingValue'])\n",
        "    \n",
        "    option_chain_data = option_chain_record['data']\n",
        "    option_chain_data_df = pd.DataFrame(option_chain_data)\n",
        "    option_chain_data_df  = option_chain_data_df[(option_chain_data_df.expiryDate == expiry) ]\n",
        "\n",
        "    OptionChain_CE = pd.DataFrame()\n",
        "    OptionChain_CE['CE'] = option_chain_data_df['CE']\n",
        "    \n",
        "    OptionChain_CE_expand = pd.concat([OptionChain_CE.drop(['CE'], axis=1), OptionChain_CE['CE'].apply(pd.Series)], axis=1)\n",
        "\n",
        "    OptionChain_PE = pd.DataFrame()\n",
        "    OptionChain_PE['PE'] = option_chain_data_df['PE']\n",
        "    OptionChain_PE_expand = pd.concat([OptionChain_PE.drop(['PE'], axis=1), OptionChain_PE['PE'].apply(pd.Series)], axis=1)\n",
        "    \n",
        "    option_chain['CE_OI'] =  OptionChain_CE_expand['openInterest']\n",
        "    option_chain['CE_CHNG_IN_OI'] =  OptionChain_CE_expand['changeinOpenInterest']\n",
        "    option_chain['CE_VOLUME'] =  OptionChain_CE_expand['totalTradedVolume']\n",
        "    option_chain['CE_IV'] =  OptionChain_CE_expand['impliedVolatility']\n",
        "    option_chain['CE_LTP'] =  OptionChain_CE_expand['lastPrice']\n",
        "    option_chain['CE_CHNG'] =  OptionChain_CE_expand['change']\n",
        "    option_chain['CE_BID_QTY'] =  OptionChain_CE_expand['bidQty']\n",
        "    option_chain['CE_BID_PRICE'] =  OptionChain_CE_expand['bidprice']\n",
        "    option_chain['CE_ASK_PRICE'] =  OptionChain_CE_expand['askPrice']\n",
        "    option_chain['CE_ASK_QTY'] =  OptionChain_CE_expand['askQty']\n",
        "    \n",
        "    option_chain['strikePrice'] =  option_chain_data_df['strikePrice']\n",
        "    \n",
        "    option_chain['PE_BID_QTY'] =  OptionChain_PE_expand['bidQty']\n",
        "    option_chain['PE_BID_PRICE'] =  OptionChain_PE_expand['bidprice']\n",
        "    option_chain['PE_ASK_PRICE'] =  OptionChain_PE_expand['askPrice']\n",
        "    option_chain['PE_ASK_QTY'] =  OptionChain_PE_expand['askQty']\n",
        "    option_chain['PE_CHNG'] =  OptionChain_PE_expand['change']\n",
        "    option_chain['PE_LTP'] =  OptionChain_PE_expand['lastPrice']\n",
        "    option_chain['PE_IV'] =  OptionChain_PE_expand['impliedVolatility']\n",
        "    option_chain['PE_VOLUME'] =  OptionChain_PE_expand['totalTradedVolume']\n",
        "    option_chain['PE_CHNG_IN_OI'] =  OptionChain_PE_expand['changeinOpenInterest']\n",
        "    option_chain['PE_OI'] =  OptionChain_PE_expand['openInterest']\n",
        "    \n",
        "    return option_chain\n",
        "    \n",
        "\n",
        "scripname = 'NIFTY'\n",
        "ExpiryDate = '17-Nov-2022'\n",
        "def main():\n",
        "    #return(GetOptionChain(scripname, ExpiryDate))\n",
        "    Option_chain = GetOptionChain(scripname, ExpiryDate)\n",
        "    print(Option_chain)\n",
        "    #Option_chain.to_csv(scripname + \".csv\", index=False)\n",
        "    \n",
        "main()\n",
        "#live option chain\n",
        "\"\"\"while True:\n",
        "  main()\n",
        "  time.sleep(10)\"\"\"\n",
        "\n",
        "#total oi & pcr\n",
        "\"\"\"while True:\n",
        "    \n",
        "    Option_chain = GetOptionChain(scripname, ExpiryDate)\n",
        "    ce_oi_sum=Option_chain['CE_OI'].sum()\n",
        "    pe_oi_sum = Option_chain['PE_OI'].sum()\n",
        "    pcr=(pe_oi_sum/ce_oi_sum)\n",
        "    pcr=round(pcr,4)\n",
        "    ce_oi_sum=str(ce_oi_sum)\n",
        "    pe_oi_sum=str(pe_oi_sum)\n",
        "    pcr=str(pcr)\n",
        "    date_time=datetime.datetime.now()\n",
        "    current_time=date_time.strftime(\"%H:%M:%S\")\n",
        "    print(current_time, \"Total-CE-OI=\"+ce_oi_sum,   \"Total-PE-OI=\"+pe_oi_sum,   \"PCR=\"+pcr)\n",
        "    #Option_chain.to_csv(scripname + \".csv\", index=False)\n",
        "    time.sleep(10) \"\"\""
      ]
    },
    {
      "cell_type": "code",
      "source": [
        "while True:\n",
        "  Option_chain = GetOptionChain(scripname, ExpiryDate)\n",
        "  option_chain_record = FetchOptionChainfromNSE (scripname)\n",
        "  print(option_chain_record['underlyingValue'])\n",
        "  print(Option_chain.CE_IV)\n",
        "  break"
      ],
      "metadata": {
        "id": "-9dcLXk08eqm"
      },
      "execution_count": null,
      "outputs": []
    },
    {
      "cell_type": "code",
      "source": [
        "from matplotlib import pyplot as plt\n",
        "while True:\n",
        "  df= GetOptionChain(scripname, ExpiryDate)\n",
        "  option_chain_record = FetchOptionChainfromNSE (scripname)\n",
        "  index_price=option_chain_record['underlyingValue']\n",
        "  #print(df)\n",
        "  new_df=df.loc[df['strikePrice']>index_price*0.95]\n",
        "  Option_chain=new_df.loc[new_df['strikePrice']<index_price*1.05]\n",
        "  call_iv=Option_chain.CE_IV\n",
        "  put_iv=Option_chain.PE_IV\n",
        "  strike_price=Option_chain.strikePrice\n",
        "  call_ltp=Option_chain.CE_LTP\n",
        "  put_ltp=Option_chain.PE_LTP\n",
        "  call_oi=Option_chain.CE_OI\n",
        "  put_oi=Option_chain.PE_OI\n",
        "  change_ce_oi=Option_chain.CE_CHNG_IN_OI\n",
        "  change_pe_oi=Option_chain.PE_CHNG_IN_OI\n",
        "  #print(change_pe_oi)\n",
        "  #plt.plot(strike_price,call_iv)\n",
        "  #plt.plot(strike_price,put_iv)\n",
        "  #plt.scatter(strike_price,call_ltp)\n",
        "  #plt.scatter(strike_price,put_ltp)\n",
        "  plt.figure(figsize=(25,9))\n",
        "  plt.bar(strike_price-12,call_oi,width=25.0,color='green')\n",
        "  plt.bar(strike_price-12,change_ce_oi,width=20.0,color='blue')\n",
        "  plt.bar(strike_price+12,put_oi,width=25.0,color='red')\n",
        "  plt.bar(strike_price+12,change_pe_oi,width=20.0,color='orange')\n",
        "  plt.axvline(x=index_price,color='black',linestyle='--',linewidth=3)\n",
        "  plt.xticks(strike_price,fontweight='bold',rotation=40)\n",
        "  #plt.xticks(index_price)\n",
        "  plt.xlabel('Option Strike',fontsize = 16)\n",
        "  plt.ylabel('Open interest',fontsize = 16)\n",
        "  plt.title(scripname+' OI Analysis',fontsize = 20)\n",
        "  highmark=max(call_oi)\n",
        "  plt.text(index_price+5,highmark,index_price,color='black',fontsize=20,fontweight='bold')\n",
        "  plt.legend([scripname+' Spot Price','Call OI','Change in Call OI','Put OI','Change in Put OI'],fontsize=12)\n",
        "  plt.grid(axis='y',linestyle='--')\n",
        "  plt.show\n",
        "  break"
      ],
      "metadata": {
        "colab": {
          "base_uri": "https://localhost:8080/",
          "height": 477
        },
        "id": "DTextqTl7rKv",
        "outputId": "9215536f-4cbe-4a8a-e164-57bdf71cacfb"
      },
      "execution_count": null,
      "outputs": [
        {
          "output_type": "display_data",
          "data": {
            "text/plain": [
              "<Figure size 1800x648 with 1 Axes>"
            ],
            "image/png": "[encoded data removed]"
          },
          "metadata": {
            "needs_background": "light"
          }
        }
      ]
    },
    {
      "cell_type": "code",
      "source": [
        "#total oi & pcr\n",
        "from pytz import timezone\n",
        "while True:\n",
        "    \n",
        "    Option_chain = GetOptionChain(scripname, ExpiryDate)\n",
        "    ce_oi_sum=Option_chain['CE_OI'].sum()\n",
        "    pe_oi_sum = Option_chain['PE_OI'].sum()\n",
        "    pcr=(pe_oi_sum/ce_oi_sum)\n",
        "    pcr=round(pcr,4)\n",
        "    ce_oi_sum=str(ce_oi_sum)\n",
        "    pe_oi_sum=str(pe_oi_sum)\n",
        "    pcr=str(pcr)\n",
        "    option_chain_record = FetchOptionChainfromNSE (scripname)\n",
        "    index_price=option_chain_record['underlyingValue']\n",
        "    date_time=datetime.datetime.now(timezone('Asia/Kolkata'))\n",
        "    current_time=date_time.strftime(\"%d-%m-%Y  %H:%M:%S\")\n",
        "    print(current_time,' ', scripname,':',index_price,  \"Total-CE-OI=\"+ce_oi_sum,   \"Total-PE-OI=\"+pe_oi_sum,   \"PCR=\"+pcr)\n",
        "    #Option_chain.to_csv(scripname + \".csv\", index=False)\n",
        "    time.sleep(10) "
      ],
      "metadata": {
        "colab": {
          "base_uri": "https://localhost:8080/",
          "height": 217
        },
        "id": "veRDXlB1qxN4",
        "outputId": "762cb8ba-b06e-4064-ac19-9e13f2170a75"
      },
      "execution_count": null,
      "outputs": [
        {
          "output_type": "stream",
          "name": "stdout",
          "text": [
            "14-11-2022  16:12:55   NIFTY : 18329.15 Total-CE-OI=1621186 Total-PE-OI=1322953 PCR=0.816\n"
          ]
        },
        {
          "output_type": "error",
          "ename": "KeyboardInterrupt",
          "evalue": "ignored",
          "traceback": [
            "\u001b[0;31m---------------------------------------------------------------------------\u001b[0m",
            "\u001b[0;31mKeyboardInterrupt\u001b[0m                         Traceback (most recent call last)",
            "\u001b[0;32m<ipython-input-7-34215d915b1c>\u001b[0m in \u001b[0;36m<module>\u001b[0;34m\u001b[0m\n\u001b[1;32m     17\u001b[0m     \u001b[0mprint\u001b[0m\u001b[0;34m(\u001b[0m\u001b[0mcurrent_time\u001b[0m\u001b[0;34m,\u001b[0m\u001b[0;34m' '\u001b[0m\u001b[0;34m,\u001b[0m \u001b[0mscripname\u001b[0m\u001b[0;34m,\u001b[0m\u001b[0;34m':'\u001b[0m\u001b[0;34m,\u001b[0m\u001b[0mindex_price\u001b[0m\u001b[0;34m,\u001b[0m  \u001b[0;34m\"Total-CE-OI=\"\u001b[0m\u001b[0;34m+\u001b[0m\u001b[0mce_oi_sum\u001b[0m\u001b[0;34m,\u001b[0m   \u001b[0;34m\"Total-PE-OI=\"\u001b[0m\u001b[0;34m+\u001b[0m\u001b[0mpe_oi_sum\u001b[0m\u001b[0;34m,\u001b[0m   \u001b[0;34m\"PCR=\"\u001b[0m\u001b[0;34m+\u001b[0m\u001b[0mpcr\u001b[0m\u001b[0;34m)\u001b[0m\u001b[0;34m\u001b[0m\u001b[0;34m\u001b[0m\u001b[0m\n\u001b[1;32m     18\u001b[0m     \u001b[0;31m#Option_chain.to_csv(scripname + \".csv\", index=False)\u001b[0m\u001b[0;34m\u001b[0m\u001b[0;34m\u001b[0m\u001b[0;34m\u001b[0m\u001b[0m\n\u001b[0;32m---> 19\u001b[0;31m     \u001b[0mtime\u001b[0m\u001b[0;34m.\u001b[0m\u001b[0msleep\u001b[0m\u001b[0;34m(\u001b[0m\u001b[0;36m10\u001b[0m\u001b[0;34m)\u001b[0m\u001b[0;34m\u001b[0m\u001b[0;34m\u001b[0m\u001b[0m\n\u001b[0m",
            "\u001b[0;31mKeyboardInterrupt\u001b[0m: "
          ]
        }
      ]
    },
    {
      "cell_type": "code",
      "source": [
        "from matplotlib import pyplot as plt\n",
        "while True:\n",
        "  df= GetOptionChain(scripname, ExpiryDate)\n",
        "  option_chain_record = FetchOptionChainfromNSE (scripname)\n",
        "  index_price=option_chain_record['underlyingValue']\n",
        "  #print(df)\n",
        "  new_df=df.loc[df['strikePrice']>index_price*0.95]\n",
        "  Option_chain=new_df.loc[new_df['strikePrice']<index_price*1.05]\n",
        "  call_iv=Option_chain.CE_IV\n",
        "  put_iv=Option_chain.PE_IV\n",
        "  strike_price=Option_chain.strikePrice\n",
        "  call_ltp=Option_chain.CE_LTP\n",
        "  put_ltp=Option_chain.PE_LTP\n",
        "  call_oi=Option_chain.CE_OI\n",
        "  put_oi=Option_chain.PE_OI\n",
        "  change_ce_oi=Option_chain.CE_CHNG_IN_OI\n",
        "  change_pe_oi=Option_chain.PE_CHNG_IN_OI\n",
        "  #print(change_pe_oi)\n",
        "  plt.figure(figsize=(16,9))\n",
        "  #plt.plot(strike_price,call_iv)\n",
        "  #plt.plot(strike_price,put_iv)\n",
        "  plt.scatter(strike_price,call_ltp)\n",
        "  plt.scatter(strike_price,put_ltp)\n",
        "  plt.show\n",
        "  break"
      ],
      "metadata": {
        "colab": {
          "base_uri": "https://localhost:8080/",
          "height": 168
        },
        "id": "WRCz9Rr-w31Q",
        "outputId": "79c04f81-e4ee-414e-de1d-1711e210a8d0"
      },
      "execution_count": null,
      "outputs": [
        {
          "output_type": "display_data",
          "data": {
            "text/plain": [
              "<Figure size 1152x648 with 1 Axes>"
            ],
            "image/png": "[encoded data removed]"
          },
          "metadata": {
            "needs_background": "light"
          }
        }
      ]
    }
  ],
  "metadata": {
    "colab": {
      "provenance": [],
      "authorship_tag": "ABX9TyN5HQMwpcTuZo5WlP/EJ+fq",
      "include_colab_link": true
    },
    "kernelspec": {
      "display_name": "Python 3",
      "name": "python3"
    },
    "language_info": {
      "name": "python"
    }
  },
  "nbformat": 4,
  "nbformat_minor": 0
}