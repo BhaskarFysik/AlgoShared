{
  "nbformat": 4,
  "nbformat_minor": 0,
  "metadata": {
    "colab": {
      "provenance": [],
      "authorship_tag": "ABX9TyNVKd1oQTum7O4NB43lSdat",
      "include_colab_link": true
    },
    "kernelspec": {
      "name": "python3",
      "display_name": "Python 3"
    },
    "language_info": {
      "name": "python"
    }
  },
  "cells": [
    {
      "cell_type": "markdown",
      "metadata": {
        "id": "view-in-github",
        "colab_type": "text"
      },
      "source": [
        "<a href=\"https://colab.research.google.com/github/BhaskarFysik/AlgoShared/blob/main/nsepy.ipynb\" target=\"_parent\"><img src=\"https://colab.research.google.com/assets/colab-badge.svg\" alt=\"Open In Colab\"/></a>"
      ]
    },
    {
      "cell_type": "code",
      "execution_count": null,
      "metadata": {
        "id": "7zTEDOfuD3hk",
        "outputId": "b15026cf-3356-4e82-e73c-b019db707351",
        "colab": {
          "base_uri": "https://localhost:8080/"
        }
      },
      "outputs": [
        {
          "output_type": "stream",
          "name": "stdout",
          "text": [
            "Looking in indexes: https://pypi.org/simple, https://us-python.pkg.dev/colab-wheels/public/simple/\n",
            "Collecting nsepy\n",
            "  Downloading nsepy-0.8.tar.gz (33 kB)\n",
            "Requirement already satisfied: beautifulsoup4 in /usr/local/lib/python3.7/dist-packages (from nsepy) (4.6.3)\n",
            "Requirement already satisfied: requests in /usr/local/lib/python3.7/dist-packages (from nsepy) (2.23.0)\n",
            "Requirement already satisfied: numpy in /usr/local/lib/python3.7/dist-packages (from nsepy) (1.21.6)\n",
            "Requirement already satisfied: pandas in /usr/local/lib/python3.7/dist-packages (from nsepy) (1.3.5)\n",
            "Requirement already satisfied: six in /usr/local/lib/python3.7/dist-packages (from nsepy) (1.15.0)\n",
            "Requirement already satisfied: click in /usr/local/lib/python3.7/dist-packages (from nsepy) (7.1.2)\n",
            "Requirement already satisfied: lxml in /usr/local/lib/python3.7/dist-packages (from nsepy) (4.9.1)\n",
            "Requirement already satisfied: pytz>=2017.3 in /usr/local/lib/python3.7/dist-packages (from pandas->nsepy) (2022.6)\n",
            "Requirement already satisfied: python-dateutil>=2.7.3 in /usr/local/lib/python3.7/dist-packages (from pandas->nsepy) (2.8.2)\n",
            "Requirement already satisfied: urllib3!=1.25.0,!=1.25.1,<1.26,>=1.21.1 in /usr/local/lib/python3.7/dist-packages (from requests->nsepy) (1.24.3)\n",
            "Requirement already satisfied: chardet<4,>=3.0.2 in /usr/local/lib/python3.7/dist-packages (from requests->nsepy) (3.0.4)\n",
            "Requirement already satisfied: idna<3,>=2.5 in /usr/local/lib/python3.7/dist-packages (from requests->nsepy) (2.10)\n",
            "Requirement already satisfied: certifi>=2017.4.17 in /usr/local/lib/python3.7/dist-packages (from requests->nsepy) (2022.9.24)\n",
            "Building wheels for collected packages: nsepy\n",
            "  Building wheel for nsepy (setup.py) ... \u001b[?25l\u001b[?25hdone\n",
            "  Created wheel for nsepy: filename=nsepy-0.8-py3-none-any.whl size=36085 sha256=e05f748ed684031ac0a3b0447105691a05246bee85f0b65f525df2f2dcdf50a7\n",
            "  Stored in directory: /root/.cache/pip/wheels/32/ab/d9/78ceea14cdf6de83376082b3cb0c2999fd77f823e35c47b9ec\n",
            "Successfully built nsepy\n",
            "Installing collected packages: nsepy\n",
            "Successfully installed nsepy-0.8\n"
          ]
        }
      ],
      "source": [
        "pip install nsepy"
      ]
    },
    {
      "cell_type": "code",
      "source": [
        "pip install pandas"
      ],
      "metadata": {
        "id": "1QOSsqVOO-X_",
        "outputId": "2d9b5cde-185b-423d-e9c9-7ea8af9d8647",
        "colab": {
          "base_uri": "https://localhost:8080/"
        }
      },
      "execution_count": null,
      "outputs": [
        {
          "output_type": "stream",
          "name": "stdout",
          "text": [
            "Looking in indexes: https://pypi.org/simple, https://us-python.pkg.dev/colab-wheels/public/simple/\n",
            "Requirement already satisfied: pandas in /usr/local/lib/python3.7/dist-packages (1.3.5)\n",
            "Requirement already satisfied: python-dateutil>=2.7.3 in /usr/local/lib/python3.7/dist-packages (from pandas) (2.8.2)\n",
            "Requirement already satisfied: pytz>=2017.3 in /usr/local/lib/python3.7/dist-packages (from pandas) (2022.6)\n",
            "Requirement already satisfied: numpy>=1.17.3 in /usr/local/lib/python3.7/dist-packages (from pandas) (1.21.6)\n",
            "Requirement already satisfied: six>=1.5 in /usr/local/lib/python3.7/dist-packages (from python-dateutil>=2.7.3->pandas) (1.15.0)\n"
          ]
        }
      ]
    },
    {
      "cell_type": "markdown",
      "source": [
        "**Stock Data**"
      ],
      "metadata": {
        "id": "nY3eLeW9Pwuf"
      }
    },
    {
      "cell_type": "code",
      "source": [
        "from nsepy import get_history\n",
        "from datetime import date\n",
        "import pandas as pd\n",
        "symbol='ITC'\n",
        "data=get_history(symbol=symbol,start=date(2022,10,18),end=date(2022,11,19))\n",
        "df=pd.DataFrame(data)\n",
        "print(data)"
      ],
      "metadata": {
        "colab": {
          "base_uri": "https://localhost:8080/"
        },
        "id": "4vXxxLJIEnOq",
        "outputId": "8a49934a-247f-47f0-95c8-fcb70eeef3a5"
      },
      "execution_count": null,
      "outputs": [
        {
          "output_type": "stream",
          "name": "stdout",
          "text": [
            "           Symbol Series  Prev Close    Open    High     Low    Last   Close  \\\n",
            "Date                                                                           \n",
            "2022-10-18    ITC     EQ      332.25  333.95  341.00  333.55  340.85  340.30   \n",
            "2022-10-19    ITC     EQ      340.30  343.10  347.45  339.80  347.20  346.35   \n",
            "2022-10-20    ITC     EQ      346.35  347.00  350.95  344.80  350.60  349.70   \n",
            "2022-10-21    ITC     EQ      349.70  353.20  353.20  344.50  344.85  345.60   \n",
            "2022-10-24    ITC     EQ      345.60  348.95  349.70  347.00  347.65  347.70   \n",
            "2022-10-25    ITC     EQ      347.70  349.45  349.50  343.65  346.10  346.30   \n",
            "2022-10-27    ITC     EQ      346.30  346.65  348.35  343.85  346.70  345.80   \n",
            "2022-10-28    ITC     EQ      345.80  347.55  348.60  345.10  346.00  345.80   \n",
            "2022-10-31    ITC     EQ      345.80  348.00  350.50  344.75  348.95  348.70   \n",
            "2022-11-01    ITC     EQ      348.70  349.25  350.50  347.20  349.50  349.50   \n",
            "2022-11-02    ITC     EQ      349.50  348.50  356.25  348.50  354.00  354.65   \n",
            "2022-11-03    ITC     EQ      354.65  354.00  358.50  353.00  354.15  353.70   \n",
            "2022-11-04    ITC     EQ      353.70  354.00  356.00  352.50  353.25  353.60   \n",
            "2022-11-07    ITC     EQ      353.60  355.00  356.35  350.00  353.70  353.50   \n",
            "2022-11-09    ITC     EQ      353.50  353.50  361.45  353.20  360.70  360.70   \n",
            "2022-11-10    ITC     EQ      360.70  359.00  359.90  354.10  356.00  356.00   \n",
            "2022-11-11    ITC     EQ      356.00  360.00  360.95  354.65  358.00  356.35   \n",
            "2022-11-14    ITC     EQ      356.35  356.35  356.95  346.60  347.45  347.20   \n",
            "2022-11-15    ITC     EQ      347.20  348.95  348.95  339.15  345.50  345.25   \n",
            "2022-11-16    ITC     EQ      345.25  345.70  346.85  341.65  344.50  344.10   \n",
            "2022-11-17    ITC     EQ      344.10  344.10  347.45  342.60  343.80  343.70   \n",
            "\n",
            "              VWAP    Volume      Turnover  Trades  Deliverable Volume  \\\n",
            "Date                                                                     \n",
            "2022-10-18  338.93  20887417  7.079464e+14  116946          15003669.0   \n",
            "2022-10-19  344.88  16296080  5.620213e+14  147366           6886786.0   \n",
            "2022-10-20  348.06  18474706  6.430266e+14  169065           6938071.0   \n",
            "2022-10-21  348.85  27372160  9.548794e+14  192007          11013104.0   \n",
            "2022-10-24  348.43   3170564  1.104708e+14   72949           1683624.0   \n",
            "2022-10-25  345.93  17242211  5.964613e+14  128574          12018710.0   \n",
            "2022-10-27  345.23  18558597  6.407003e+14  102198          13732749.0   \n",
            "2022-10-28  346.74  13069167  4.531558e+14   88108           7228175.0   \n",
            "2022-10-31  347.71  13825970  4.807406e+14  124587           8932772.0   \n",
            "2022-11-01  349.26  19665200  6.868253e+14  116701          15119548.0   \n",
            "2022-11-02  353.78  16781507  5.936966e+14  166834           8917189.0   \n",
            "2022-11-03  355.69  10736155  3.818715e+14  115351           5509745.0   \n",
            "2022-11-04  354.26   8386849  2.971089e+14  112058           5462197.0   \n",
            "2022-11-07  352.72  10050303  3.544948e+14  120586           5771581.0   \n",
            "2022-11-09  358.51  20611075  7.389191e+14  176013          14229344.0   \n",
            "2022-11-10  356.14  19327625  6.883310e+14  149772          13597143.0   \n",
            "2022-11-11  356.41  10950902  3.903030e+14  119454           7024510.0   \n",
            "2022-11-14  350.27  17639889  6.178678e+14  167736          12350540.0   \n",
            "2022-11-15  342.39  15451411  5.290386e+14  151100                 NaN   \n",
            "2022-11-16  343.92   7604924  2.615448e+14  116105           3491927.0   \n",
            "2022-11-17  344.84   9994270  3.446381e+14  118071           6489926.0   \n",
            "\n",
            "            %Deliverble  \n",
            "Date                     \n",
            "2022-10-18       0.7183  \n",
            "2022-10-19       0.4226  \n",
            "2022-10-20       0.3755  \n",
            "2022-10-21       0.4356  \n",
            "2022-10-24       0.5310  \n",
            "2022-10-25       0.6971  \n",
            "2022-10-27       0.7400  \n",
            "2022-10-28       0.7221  \n",
            "2022-10-31       0.6461  \n",
            "2022-11-01       0.7688  \n",
            "2022-11-02       0.5314  \n",
            "2022-11-03       0.5132  \n",
            "2022-11-04       0.6513  \n",
            "2022-11-07       0.5743  \n",
            "2022-11-09       0.6904  \n",
            "2022-11-10       0.7035  \n",
            "2022-11-11       0.6415  \n",
            "2022-11-14       0.7001  \n",
            "2022-11-15          NaN  \n",
            "2022-11-16       0.5713  \n",
            "2022-11-17       0.6494  \n"
          ]
        }
      ]
    },
    {
      "cell_type": "markdown",
      "source": [
        "**Futures Data**"
      ],
      "metadata": {
        "id": "GrOfG2YqP2pO"
      }
    },
    {
      "cell_type": "code",
      "source": [
        "from datetime import date\n",
        "from nsepy import get_history\n",
        "# Stock futures (Similarly for index futures, set index = True) nifty=NIFTY, banknifty=BANKNIFTY\n",
        "stock_fut = get_history(symbol=\"NIFTY\",\n",
        "                            start=date(2022,10,1),\n",
        "                            end=date(2022,10,27),\n",
        "                            futures=True,\n",
        "                            expiry_date=date(2022,10,27),\n",
        "                        index=True)\n",
        "print(stock_fut)"
      ],
      "metadata": {
        "colab": {
          "base_uri": "https://localhost:8080/"
        },
        "id": "oYQ_sWLIP8En",
        "outputId": "554c561b-b0a2-4685-e708-5b0578da81d6"
      },
      "execution_count": null,
      "outputs": [
        {
          "output_type": "stream",
          "name": "stdout",
          "text": [
            "           Symbol      Expiry      Open      High       Low     Close  \\\n",
            "Date                                                                    \n",
            "2022-10-03  NIFTY  2022-10-27  17021.00  17105.00  16858.00  16895.65   \n",
            "2022-10-04  NIFTY  2022-10-27  17140.00  17309.00  17125.00  17293.00   \n",
            "2022-10-06  NIFTY  2022-10-27  17421.20  17444.00  17313.00  17325.45   \n",
            "2022-10-07  NIFTY  2022-10-27  17301.10  17353.95  17220.30  17328.85   \n",
            "2022-10-10  NIFTY  2022-10-27  17100.00  17278.85  17050.00  17227.45   \n",
            "2022-10-11  NIFTY  2022-10-27  17220.00  17239.00  16951.00  16978.20   \n",
            "2022-10-12  NIFTY  2022-10-27  17011.00  17133.90  16951.05  17114.80   \n",
            "2022-10-13  NIFTY  2022-10-27  17085.25  17086.80  16927.00  17010.85   \n",
            "2022-10-14  NIFTY  2022-10-27  17299.75  17367.00  17175.00  17195.50   \n",
            "2022-10-17  NIFTY  2022-10-27  17155.00  17324.00  17100.00  17300.30   \n",
            "2022-10-18  NIFTY  2022-10-27  17443.00  17538.65  17432.00  17502.00   \n",
            "2022-10-19  NIFTY  2022-10-27  17535.10  17599.35  17457.00  17494.65   \n",
            "2022-10-20  NIFTY  2022-10-27  17408.00  17560.00  17385.30  17540.70   \n",
            "2022-10-21  NIFTY  2022-10-27  17588.00  17665.50  17495.00  17564.45   \n",
            "2022-10-25  NIFTY  2022-10-27  17772.10  17790.00  17642.60  17654.95   \n",
            "2022-10-27  NIFTY  2022-10-27  17795.10  17818.55  17655.00  17721.70   \n",
            "\n",
            "                Last  Settle Price  Number of Contracts      Turnover  \\\n",
            "Date                                                                    \n",
            "2022-10-03  16888.25      16895.65               249841  2.120728e+11   \n",
            "2022-10-04  17306.00      17293.00               232589  2.005307e+11   \n",
            "2022-10-06  17313.00      17325.45               183639  1.595082e+11   \n",
            "2022-10-07  17329.10      17328.85               177797  1.537421e+11   \n",
            "2022-10-10  17230.00      17227.45               253682  2.175630e+11   \n",
            "2022-10-11  16960.65      16978.20               211932  1.811552e+11   \n",
            "2022-10-12  17121.00      17114.80               227311  1.937614e+11   \n",
            "2022-10-13  17008.00      17010.85               209707  1.782800e+11   \n",
            "2022-10-14  17209.75      17195.50               257506  2.225114e+11   \n",
            "2022-10-17  17305.50      17300.30               179812  1.550111e+11   \n",
            "2022-10-18  17507.90      17502.00               190681  1.667619e+11   \n",
            "2022-10-19  17506.10      17494.65               170212  1.492064e+11   \n",
            "2022-10-20  17544.90      17540.70               189528  1.655734e+11   \n",
            "2022-10-21  17574.90      17564.45               182444  1.605094e+11   \n",
            "2022-10-25  17652.00      17654.95               157461  1.393939e+11   \n",
            "2022-10-27  17735.90      17736.95               186816  1.655693e+11   \n",
            "\n",
            "            Open Interest  Change in OI  Underlying  \n",
            "Date                                                 \n",
            "2022-10-03       12601350        572500         NaN  \n",
            "2022-10-04       11607950       -993400    17274.30  \n",
            "2022-10-06       12196950        589000    17331.80  \n",
            "2022-10-07       12126700        -70250    17314.65  \n",
            "2022-10-10       13082650        955950         NaN  \n",
            "2022-10-11       13414300        331650         NaN  \n",
            "2022-10-12       13286050       -128250    17123.60  \n",
            "2022-10-13       13662200        376150         NaN  \n",
            "2022-10-14       12418800      -1243400         NaN  \n",
            "2022-10-17       12684550        265750    17311.80  \n",
            "2022-10-18       11411250      -1273300         NaN  \n",
            "2022-10-19       10987150       -424100    17512.25  \n",
            "2022-10-20       11338400        351250    17563.95  \n",
            "2022-10-21       10561900       -776500    17576.30  \n",
            "2022-10-25        7402750      -2735750    17656.35  \n",
            "2022-10-27        3711050      -3691700    17736.95  \n"
          ]
        }
      ]
    },
    {
      "cell_type": "markdown",
      "source": [
        "**Options**"
      ],
      "metadata": {
        "id": "hxfuTYm3Rz1p"
      }
    },
    {
      "cell_type": "code",
      "source": [
        "from nsepy.derivatives import get_expiry_date\n",
        "expiry = get_expiry_date(year=2022, month=10)\n",
        "\n",
        "nifty_opt = get_history(symbol=\"NIFTY\",\n",
        "                        start=date(2022,11,1),\n",
        "                        end=date(2022,11,17),\n",
        "                        index=True,\n",
        "                        option_type='CE',\n",
        "                        strike_price=18300,\n",
        "                        expiry_date=date(2022,11,17))\n",
        "print(nifty_opt)"
      ],
      "metadata": {
        "colab": {
          "base_uri": "https://localhost:8080/"
        },
        "id": "-LKyqrFYR4jd",
        "outputId": "22f67961-1c83-41b3-eb60-1efeed1b3876"
      },
      "execution_count": null,
      "outputs": [
        {
          "output_type": "stream",
          "name": "stdout",
          "text": [
            "           Symbol      Expiry Option Type  Strike Price    Open    High  \\\n",
            "Date                                                                      \n",
            "2022-11-01  NIFTY  2022-11-17          CE       18300.0  129.60  180.95   \n",
            "2022-11-03  NIFTY  2022-11-17          CE       18300.0  101.65  145.80   \n",
            "2022-11-04  NIFTY  2022-11-17          CE       18300.0  112.00  132.50   \n",
            "2022-11-07  NIFTY  2022-11-17          CE       18300.0  150.00  160.60   \n",
            "2022-11-09  NIFTY  2022-11-17          CE       18300.0  156.80  168.90   \n",
            "2022-11-10  NIFTY  2022-11-17          CE       18300.0   69.85   70.00   \n",
            "2022-11-11  NIFTY  2022-11-17          CE       18300.0   85.00  167.00   \n",
            "2022-11-14  NIFTY  2022-11-17          CE       18300.0  149.00  164.95   \n",
            "2022-11-15  NIFTY  2022-11-17          CE       18300.0  124.90  167.00   \n",
            "2022-11-16  NIFTY  2022-11-17          CE       18300.0  138.45  168.00   \n",
            "2022-11-17  NIFTY  2022-11-17          CE       18300.0   97.00  117.35   \n",
            "\n",
            "               Low   Close    Last  Settle Price  Number of Contracts  \\\n",
            "Date                                                                    \n",
            "2022-11-01  129.00  172.75  174.55        172.75                 3872   \n",
            "2022-11-03   95.45  111.60  112.00        111.60                 8020   \n",
            "2022-11-04   81.30  120.00  131.00        120.00                25613   \n",
            "2022-11-07   88.30  127.45  128.00        127.45                49529   \n",
            "2022-11-09   84.30   96.40   87.30         96.40               160134   \n",
            "2022-11-10   31.20   40.35   44.00         40.35               292623   \n",
            "2022-11-11   85.00  151.40  167.00        151.40              2062354   \n",
            "2022-11-14   99.90  110.25  102.00        110.25              1269375   \n",
            "2022-11-15   79.20  142.25  164.70        142.25              2474846   \n",
            "2022-11-16   87.35  129.95  122.00        129.95              1556569   \n",
            "2022-11-17   40.30   54.95   43.80      18343.90              2584191   \n",
            "\n",
            "                Turnover  Premium Turnover  Open Interest  Change in OI  \\\n",
            "Date                                                                      \n",
            "2022-11-01  3.574077e+09      3.119700e+07          94100          8750   \n",
            "2022-11-03  7.384151e+09      4.585100e+07         233350        110400   \n",
            "2022-11-04  2.356453e+10      1.286330e+08         316500         83150   \n",
            "2022-11-07  4.561049e+10      2.914520e+08         569250        252750   \n",
            "2022-11-09  1.474514e+11      9.288340e+08        1591900       1022650   \n",
            "2022-11-10  2.683945e+11      6.444460e+08        2935250       1343350   \n",
            "2022-11-11  1.900495e+12      1.344073e+10        3760250        825000   \n",
            "2022-11-14  1.169651e+12      8.173070e+09        3932200        171950   \n",
            "2022-11-15  2.276956e+12      1.247141e+10        3248650       -683550   \n",
            "2022-11-16  1.434195e+12      9.933987e+09        2401100       -847550   \n",
            "2022-11-17  2.375374e+12      1.083929e+10        1695150       -705950   \n",
            "\n",
            "            Underlying  \n",
            "Date                    \n",
            "2022-11-01         NaN  \n",
            "2022-11-03    18052.70  \n",
            "2022-11-04         NaN  \n",
            "2022-11-07         NaN  \n",
            "2022-11-09    18157.00  \n",
            "2022-11-10    18028.20  \n",
            "2022-11-11    18349.70  \n",
            "2022-11-14         NaN  \n",
            "2022-11-15    18403.40  \n",
            "2022-11-16    18409.65  \n",
            "2022-11-17    18343.90  \n"
          ]
        }
      ]
    }
  ]
}